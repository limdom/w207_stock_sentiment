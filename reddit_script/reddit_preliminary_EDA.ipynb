{
 "cells": [
  {
   "cell_type": "code",
   "execution_count": 1,
   "metadata": {},
   "outputs": [],
   "source": [
    "import pandas as pd\n",
    "import matplotlib.pyplot as plt"
   ]
  },
  {
   "cell_type": "code",
   "execution_count": 2,
   "metadata": {},
   "outputs": [],
   "source": [
    "df = pd.read_csv('D:/df_2018-2019.csv', low_memory=False)"
   ]
  },
  {
   "cell_type": "code",
   "execution_count": 4,
   "metadata": {
    "scrolled": true
   },
   "outputs": [
    {
     "data": {
      "text/plain": [
       "[deleted]               84978\n",
       "freehouse_throwaway     17572\n",
       "winkerpack              16096\n",
       "love2fukmarriedwoman    14014\n",
       "VacationLover1          13198\n",
       "                        ...  \n",
       "TheUrinator5000             1\n",
       "TheVBerlin                  1\n",
       "TheVainOrphan               1\n",
       "TheValleyant                1\n",
       "UpsetAlarm                  1\n",
       "Name: author, Length: 236095, dtype: int64"
      ]
     },
     "execution_count": 4,
     "metadata": {},
     "output_type": "execute_result"
    }
   ],
   "source": [
    "a = df['author'].value_counts().sort_index()\n",
    "a.sort_values(ascending=False)"
   ]
  },
  {
   "cell_type": "code",
   "execution_count": 6,
   "metadata": {
    "scrolled": true
   },
   "outputs": [
    {
     "data": {
      "text/plain": [
       "2018-01-01     898\n",
       "2018-01-02    1576\n",
       "2018-01-03    2117\n",
       "2018-01-04    2227\n",
       "2018-01-05    1944\n",
       "              ... \n",
       "2019-12-27    8001\n",
       "2019-12-28    4131\n",
       "2019-12-29    1847\n",
       "2019-12-30    7413\n",
       "2019-12-31    8348\n",
       "Name: created_utc, Length: 730, dtype: int64"
      ]
     },
     "execution_count": 6,
     "metadata": {},
     "output_type": "execute_result"
    }
   ],
   "source": [
    "d = df['created_utc'] = pd.to_datetime(df['created_utc']).dt.date\n",
    "d.value_counts().sort_index()"
   ]
  },
  {
   "cell_type": "code",
   "execution_count": 7,
   "metadata": {},
   "outputs": [
    {
     "data": {
      "text/html": [
       "<div>\n",
       "<style scoped>\n",
       "    .dataframe tbody tr th:only-of-type {\n",
       "        vertical-align: middle;\n",
       "    }\n",
       "\n",
       "    .dataframe tbody tr th {\n",
       "        vertical-align: top;\n",
       "    }\n",
       "\n",
       "    .dataframe thead th {\n",
       "        text-align: right;\n",
       "    }\n",
       "</style>\n",
       "<table border=\"1\" class=\"dataframe\">\n",
       "  <thead>\n",
       "    <tr style=\"text-align: right;\">\n",
       "      <th></th>\n",
       "      <th>Unnamed: 0</th>\n",
       "      <th>author</th>\n",
       "      <th>created_utc</th>\n",
       "      <th>body</th>\n",
       "      <th>score</th>\n",
       "      <th>subreddit</th>\n",
       "    </tr>\n",
       "  </thead>\n",
       "  <tbody>\n",
       "    <tr>\n",
       "      <th>3611798</th>\n",
       "      <td>4155330</td>\n",
       "      <td>Nikandro</td>\n",
       "      <td>2019-09-10</td>\n",
       "      <td>How can he possibly make a profit with so few ...</td>\n",
       "      <td>11175.0</td>\n",
       "      <td>wallstreetbets</td>\n",
       "    </tr>\n",
       "    <tr>\n",
       "      <th>1481687</th>\n",
       "      <td>1720643</td>\n",
       "      <td>Comfortable_Dirt</td>\n",
       "      <td>2018-12-11</td>\n",
       "      <td>At first I misread you had a net loss of $850....</td>\n",
       "      <td>10941.0</td>\n",
       "      <td>wallstreetbets</td>\n",
       "    </tr>\n",
       "    <tr>\n",
       "      <th>3461369</th>\n",
       "      <td>3980438</td>\n",
       "      <td>bagdraggerdad</td>\n",
       "      <td>2019-08-24</td>\n",
       "      <td>How is this inside information if your outside?</td>\n",
       "      <td>10258.0</td>\n",
       "      <td>wallstreetbets</td>\n",
       "    </tr>\n",
       "    <tr>\n",
       "      <th>633441</th>\n",
       "      <td>742089</td>\n",
       "      <td>emanresu61</td>\n",
       "      <td>2018-07-26</td>\n",
       "      <td>1. Fuck You\\n2. Save some money for taxes or y...</td>\n",
       "      <td>10128.0</td>\n",
       "      <td>wallstreetbets</td>\n",
       "    </tr>\n",
       "    <tr>\n",
       "      <th>1704950</th>\n",
       "      <td>1976243</td>\n",
       "      <td>guywhowantsadvice</td>\n",
       "      <td>2019-01-11</td>\n",
       "      <td>She got hotter \\n\\n</td>\n",
       "      <td>9147.0</td>\n",
       "      <td>wallstreetbets</td>\n",
       "    </tr>\n",
       "    <tr>\n",
       "      <th>...</th>\n",
       "      <td>...</td>\n",
       "      <td>...</td>\n",
       "      <td>...</td>\n",
       "      <td>...</td>\n",
       "      <td>...</td>\n",
       "      <td>...</td>\n",
       "    </tr>\n",
       "    <tr>\n",
       "      <th>120398</th>\n",
       "      <td>140302</td>\n",
       "      <td>pewdiepew2</td>\n",
       "      <td>NaN</td>\n",
       "      <td>You have all the maturity of wine bottled yest...</td>\n",
       "      <td>NaN</td>\n",
       "      <td>NaN</td>\n",
       "    </tr>\n",
       "    <tr>\n",
       "      <th>120402</th>\n",
       "      <td>140308</td>\n",
       "      <td>pewdiepew2</td>\n",
       "      <td>NaN</td>\n",
       "      <td>I thought of you all day today. I was at the zoo.</td>\n",
       "      <td>NaN</td>\n",
       "      <td>NaN</td>\n",
       "    </tr>\n",
       "    <tr>\n",
       "      <th>739538</th>\n",
       "      <td>866642</td>\n",
       "      <td>Frostfright</td>\n",
       "      <td>NaN</td>\n",
       "      <td>Tfw tcehy is your largest holding</td>\n",
       "      <td>NaN</td>\n",
       "      <td>NaN</td>\n",
       "    </tr>\n",
       "    <tr>\n",
       "      <th>910993</th>\n",
       "      <td>1065000</td>\n",
       "      <td>Bradley_Haran</td>\n",
       "      <td>NaN</td>\n",
       "      <td>&amp;gt; Bezos could give all his shares to all th...</td>\n",
       "      <td>NaN</td>\n",
       "      <td>NaN</td>\n",
       "    </tr>\n",
       "    <tr>\n",
       "      <th>4051554</th>\n",
       "      <td>4650722</td>\n",
       "      <td>PressDtoDabonDiablo</td>\n",
       "      <td>NaN</td>\n",
       "      <td>NaN</td>\n",
       "      <td>NaN</td>\n",
       "      <td>NaN</td>\n",
       "    </tr>\n",
       "  </tbody>\n",
       "</table>\n",
       "<p>4629888 rows × 6 columns</p>\n",
       "</div>"
      ],
      "text/plain": [
       "         Unnamed: 0               author created_utc  \\\n",
       "3611798     4155330             Nikandro  2019-09-10   \n",
       "1481687     1720643     Comfortable_Dirt  2018-12-11   \n",
       "3461369     3980438        bagdraggerdad  2019-08-24   \n",
       "633441       742089           emanresu61  2018-07-26   \n",
       "1704950     1976243    guywhowantsadvice  2019-01-11   \n",
       "...             ...                  ...         ...   \n",
       "120398       140302           pewdiepew2         NaN   \n",
       "120402       140308           pewdiepew2         NaN   \n",
       "739538       866642          Frostfright         NaN   \n",
       "910993      1065000        Bradley_Haran         NaN   \n",
       "4051554     4650722  PressDtoDabonDiablo         NaN   \n",
       "\n",
       "                                                      body    score  \\\n",
       "3611798  How can he possibly make a profit with so few ...  11175.0   \n",
       "1481687  At first I misread you had a net loss of $850....  10941.0   \n",
       "3461369    How is this inside information if your outside?  10258.0   \n",
       "633441   1. Fuck You\\n2. Save some money for taxes or y...  10128.0   \n",
       "1704950                                She got hotter \\n\\n   9147.0   \n",
       "...                                                    ...      ...   \n",
       "120398   You have all the maturity of wine bottled yest...      NaN   \n",
       "120402   I thought of you all day today. I was at the zoo.      NaN   \n",
       "739538                   Tfw tcehy is your largest holding      NaN   \n",
       "910993   &gt; Bezos could give all his shares to all th...      NaN   \n",
       "4051554                                                NaN      NaN   \n",
       "\n",
       "              subreddit  \n",
       "3611798  wallstreetbets  \n",
       "1481687  wallstreetbets  \n",
       "3461369  wallstreetbets  \n",
       "633441   wallstreetbets  \n",
       "1704950  wallstreetbets  \n",
       "...                 ...  \n",
       "120398              NaN  \n",
       "120402              NaN  \n",
       "739538              NaN  \n",
       "910993              NaN  \n",
       "4051554             NaN  \n",
       "\n",
       "[4629888 rows x 6 columns]"
      ]
     },
     "execution_count": 7,
     "metadata": {},
     "output_type": "execute_result"
    }
   ],
   "source": [
    "df.sort_values('score', ascending=False)"
   ]
  }
 ],
 "metadata": {
  "kernelspec": {
   "display_name": "Python 3",
   "language": "python",
   "name": "python3"
  },
  "language_info": {
   "codemirror_mode": {
    "name": "ipython",
    "version": 3
   },
   "file_extension": ".py",
   "mimetype": "text/x-python",
   "name": "python",
   "nbconvert_exporter": "python",
   "pygments_lexer": "ipython3",
   "version": "3.8.5"
  }
 },
 "nbformat": 4,
 "nbformat_minor": 4
}
