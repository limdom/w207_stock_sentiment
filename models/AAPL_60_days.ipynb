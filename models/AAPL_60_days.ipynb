{
 "cells": [
  {
   "cell_type": "code",
   "execution_count": 1,
   "metadata": {},
   "outputs": [],
   "source": [
    "import math\n",
    "import pandas_datareader as web\n",
    "import matplotlib.pyplot as plt\n",
    "import pandas as pd\n",
    "import numpy as np\n",
    "import keras\n",
    "from keras.models import Sequential\n",
    "from keras.layers import Dense\n",
    "from keras.layers import LSTM\n",
    "from keras.layers import Dropout\n",
    "from keras.layers import *\n",
    "from sklearn.preprocessing import MinMaxScaler\n",
    "from sklearn.metrics import mean_squared_error\n",
    "from sklearn.metrics import mean_absolute_error\n",
    "from sklearn.model_selection import train_test_split\n",
    "from keras.callbacks import EarlyStopping\n",
    "\n",
    "plt.style.use('fivethirtyeight')"
   ]
  },
  {
   "cell_type": "code",
   "execution_count": 2,
   "metadata": {},
   "outputs": [
    {
     "data": {
      "text/html": [
       "<div>\n",
       "<style scoped>\n",
       "    .dataframe tbody tr th:only-of-type {\n",
       "        vertical-align: middle;\n",
       "    }\n",
       "\n",
       "    .dataframe tbody tr th {\n",
       "        vertical-align: top;\n",
       "    }\n",
       "\n",
       "    .dataframe thead th {\n",
       "        text-align: right;\n",
       "    }\n",
       "</style>\n",
       "<table border=\"1\" class=\"dataframe\">\n",
       "  <thead>\n",
       "    <tr style=\"text-align: right;\">\n",
       "      <th></th>\n",
       "      <th>dt</th>\n",
       "      <th>TSLA_Open</th>\n",
       "      <th>TSLA_High</th>\n",
       "      <th>TSLA_Low</th>\n",
       "      <th>TSLA_Close</th>\n",
       "      <th>TSLA_AdjClose</th>\n",
       "      <th>TSLA_Volume</th>\n",
       "      <th>AAPL_Open</th>\n",
       "      <th>AAPL_High</th>\n",
       "      <th>AAPL_Low</th>\n",
       "      <th>...</th>\n",
       "      <th>DGS6MO</th>\n",
       "      <th>DGS10</th>\n",
       "      <th>BAMLH0A0HYM2</th>\n",
       "      <th>VXIBMCLS</th>\n",
       "      <th>USEPUINDXD</th>\n",
       "      <th>DCOILWTICO</th>\n",
       "      <th>TSLA_EPS_diluted</th>\n",
       "      <th>AAPL_EPS_diluted</th>\n",
       "      <th>TSLA_P/E</th>\n",
       "      <th>AAPL_P/E</th>\n",
       "    </tr>\n",
       "  </thead>\n",
       "  <tbody>\n",
       "    <tr>\n",
       "      <th>0</th>\n",
       "      <td>2012-11-05</td>\n",
       "      <td>5.960000</td>\n",
       "      <td>6.316000</td>\n",
       "      <td>5.866000</td>\n",
       "      <td>6.300000</td>\n",
       "      <td>6.300000</td>\n",
       "      <td>10244500.0</td>\n",
       "      <td>20.840000</td>\n",
       "      <td>20.991785</td>\n",
       "      <td>20.628571</td>\n",
       "      <td>...</td>\n",
       "      <td>0.15</td>\n",
       "      <td>1.72</td>\n",
       "      <td>5.57</td>\n",
       "      <td>19.64</td>\n",
       "      <td>225.43</td>\n",
       "      <td>85.64</td>\n",
       "      <td>-0.7440</td>\n",
       "      <td>1.5772</td>\n",
       "      <td>-8.467742</td>\n",
       "      <td>13.238198</td>\n",
       "    </tr>\n",
       "    <tr>\n",
       "      <th>1</th>\n",
       "      <td>2012-11-06</td>\n",
       "      <td>6.122000</td>\n",
       "      <td>6.240000</td>\n",
       "      <td>5.990000</td>\n",
       "      <td>6.230000</td>\n",
       "      <td>6.230000</td>\n",
       "      <td>11620000.0</td>\n",
       "      <td>21.079643</td>\n",
       "      <td>21.097857</td>\n",
       "      <td>20.717501</td>\n",
       "      <td>...</td>\n",
       "      <td>0.15</td>\n",
       "      <td>1.78</td>\n",
       "      <td>5.49</td>\n",
       "      <td>19.60</td>\n",
       "      <td>195.50</td>\n",
       "      <td>88.62</td>\n",
       "      <td>-0.7440</td>\n",
       "      <td>1.5772</td>\n",
       "      <td>-8.373656</td>\n",
       "      <td>13.198117</td>\n",
       "    </tr>\n",
       "    <tr>\n",
       "      <th>2</th>\n",
       "      <td>2012-11-07</td>\n",
       "      <td>6.200000</td>\n",
       "      <td>6.410000</td>\n",
       "      <td>6.162000</td>\n",
       "      <td>6.308000</td>\n",
       "      <td>6.308000</td>\n",
       "      <td>8572500.0</td>\n",
       "      <td>20.494286</td>\n",
       "      <td>20.519285</td>\n",
       "      <td>19.848213</td>\n",
       "      <td>...</td>\n",
       "      <td>0.14</td>\n",
       "      <td>1.68</td>\n",
       "      <td>5.63</td>\n",
       "      <td>20.49</td>\n",
       "      <td>358.00</td>\n",
       "      <td>84.50</td>\n",
       "      <td>-0.7440</td>\n",
       "      <td>1.5772</td>\n",
       "      <td>-8.478495</td>\n",
       "      <td>12.635412</td>\n",
       "    </tr>\n",
       "    <tr>\n",
       "      <th>3</th>\n",
       "      <td>2012-11-08</td>\n",
       "      <td>6.202000</td>\n",
       "      <td>6.376000</td>\n",
       "      <td>6.188000</td>\n",
       "      <td>6.262000</td>\n",
       "      <td>6.262000</td>\n",
       "      <td>6370000.0</td>\n",
       "      <td>20.022499</td>\n",
       "      <td>20.079643</td>\n",
       "      <td>19.117500</td>\n",
       "      <td>...</td>\n",
       "      <td>0.15</td>\n",
       "      <td>1.62</td>\n",
       "      <td>5.67</td>\n",
       "      <td>20.85</td>\n",
       "      <td>241.14</td>\n",
       "      <td>85.07</td>\n",
       "      <td>-0.7440</td>\n",
       "      <td>1.5772</td>\n",
       "      <td>-8.416667</td>\n",
       "      <td>12.176868</td>\n",
       "    </tr>\n",
       "    <tr>\n",
       "      <th>4</th>\n",
       "      <td>2012-11-09</td>\n",
       "      <td>6.120000</td>\n",
       "      <td>6.186000</td>\n",
       "      <td>5.970000</td>\n",
       "      <td>6.064000</td>\n",
       "      <td>6.064000</td>\n",
       "      <td>4315000.0</td>\n",
       "      <td>19.300714</td>\n",
       "      <td>19.817142</td>\n",
       "      <td>19.061428</td>\n",
       "      <td>...</td>\n",
       "      <td>0.15</td>\n",
       "      <td>1.61</td>\n",
       "      <td>5.77</td>\n",
       "      <td>20.82</td>\n",
       "      <td>278.07</td>\n",
       "      <td>86.08</td>\n",
       "      <td>-0.7440</td>\n",
       "      <td>1.5772</td>\n",
       "      <td>-8.150538</td>\n",
       "      <td>12.387685</td>\n",
       "    </tr>\n",
       "    <tr>\n",
       "      <th>...</th>\n",
       "      <td>...</td>\n",
       "      <td>...</td>\n",
       "      <td>...</td>\n",
       "      <td>...</td>\n",
       "      <td>...</td>\n",
       "      <td>...</td>\n",
       "      <td>...</td>\n",
       "      <td>...</td>\n",
       "      <td>...</td>\n",
       "      <td>...</td>\n",
       "      <td>...</td>\n",
       "      <td>...</td>\n",
       "      <td>...</td>\n",
       "      <td>...</td>\n",
       "      <td>...</td>\n",
       "      <td>...</td>\n",
       "      <td>...</td>\n",
       "      <td>...</td>\n",
       "      <td>...</td>\n",
       "      <td>...</td>\n",
       "      <td>...</td>\n",
       "    </tr>\n",
       "    <tr>\n",
       "      <th>3547</th>\n",
       "      <td>2022-07-23</td>\n",
       "      <td>828.659973</td>\n",
       "      <td>842.359985</td>\n",
       "      <td>812.140015</td>\n",
       "      <td>816.729980</td>\n",
       "      <td>816.729980</td>\n",
       "      <td>34421200.0</td>\n",
       "      <td>155.389999</td>\n",
       "      <td>156.279999</td>\n",
       "      <td>153.410004</td>\n",
       "      <td>...</td>\n",
       "      <td>2.97</td>\n",
       "      <td>2.77</td>\n",
       "      <td>4.96</td>\n",
       "      <td>25.73</td>\n",
       "      <td>96.97</td>\n",
       "      <td>97.71</td>\n",
       "      <td>8.3024</td>\n",
       "      <td>6.1521</td>\n",
       "      <td>98.372757</td>\n",
       "      <td>25.046731</td>\n",
       "    </tr>\n",
       "    <tr>\n",
       "      <th>3548</th>\n",
       "      <td>2022-07-24</td>\n",
       "      <td>828.659973</td>\n",
       "      <td>842.359985</td>\n",
       "      <td>812.140015</td>\n",
       "      <td>816.729980</td>\n",
       "      <td>816.729980</td>\n",
       "      <td>34421200.0</td>\n",
       "      <td>155.389999</td>\n",
       "      <td>156.279999</td>\n",
       "      <td>153.410004</td>\n",
       "      <td>...</td>\n",
       "      <td>2.97</td>\n",
       "      <td>2.77</td>\n",
       "      <td>4.96</td>\n",
       "      <td>25.73</td>\n",
       "      <td>212.51</td>\n",
       "      <td>97.71</td>\n",
       "      <td>8.3024</td>\n",
       "      <td>6.1521</td>\n",
       "      <td>98.372757</td>\n",
       "      <td>25.046731</td>\n",
       "    </tr>\n",
       "    <tr>\n",
       "      <th>3549</th>\n",
       "      <td>2022-07-25</td>\n",
       "      <td>816.650024</td>\n",
       "      <td>822.440002</td>\n",
       "      <td>802.200012</td>\n",
       "      <td>805.299988</td>\n",
       "      <td>805.299988</td>\n",
       "      <td>21357800.0</td>\n",
       "      <td>154.009995</td>\n",
       "      <td>155.039993</td>\n",
       "      <td>152.279999</td>\n",
       "      <td>...</td>\n",
       "      <td>3.06</td>\n",
       "      <td>2.81</td>\n",
       "      <td>4.95</td>\n",
       "      <td>25.17</td>\n",
       "      <td>110.63</td>\n",
       "      <td>99.83</td>\n",
       "      <td>8.3024</td>\n",
       "      <td>6.1521</td>\n",
       "      <td>96.996048</td>\n",
       "      <td>24.861429</td>\n",
       "    </tr>\n",
       "    <tr>\n",
       "      <th>3550</th>\n",
       "      <td>2022-07-26</td>\n",
       "      <td>799.539978</td>\n",
       "      <td>801.929993</td>\n",
       "      <td>768.789978</td>\n",
       "      <td>776.580017</td>\n",
       "      <td>776.580017</td>\n",
       "      <td>22273600.0</td>\n",
       "      <td>152.259995</td>\n",
       "      <td>153.089996</td>\n",
       "      <td>150.800003</td>\n",
       "      <td>...</td>\n",
       "      <td>3.06</td>\n",
       "      <td>2.81</td>\n",
       "      <td>5.06</td>\n",
       "      <td>25.24</td>\n",
       "      <td>30.93</td>\n",
       "      <td>99.83</td>\n",
       "      <td>8.3024</td>\n",
       "      <td>6.1521</td>\n",
       "      <td>93.536811</td>\n",
       "      <td>24.641993</td>\n",
       "    </tr>\n",
       "    <tr>\n",
       "      <th>3551</th>\n",
       "      <td>2022-07-27</td>\n",
       "      <td>791.429993</td>\n",
       "      <td>827.780029</td>\n",
       "      <td>785.369995</td>\n",
       "      <td>824.460022</td>\n",
       "      <td>824.460022</td>\n",
       "      <td>29286500.0</td>\n",
       "      <td>152.580002</td>\n",
       "      <td>157.330002</td>\n",
       "      <td>152.160004</td>\n",
       "      <td>...</td>\n",
       "      <td>3.06</td>\n",
       "      <td>2.81</td>\n",
       "      <td>5.06</td>\n",
       "      <td>25.24</td>\n",
       "      <td>30.93</td>\n",
       "      <td>99.83</td>\n",
       "      <td>8.3024</td>\n",
       "      <td>6.1521</td>\n",
       "      <td>99.303818</td>\n",
       "      <td>25.485605</td>\n",
       "    </tr>\n",
       "  </tbody>\n",
       "</table>\n",
       "<p>3552 rows × 38 columns</p>\n",
       "</div>"
      ],
      "text/plain": [
       "              dt   TSLA_Open   TSLA_High    TSLA_Low  TSLA_Close  \\\n",
       "0     2012-11-05    5.960000    6.316000    5.866000    6.300000   \n",
       "1     2012-11-06    6.122000    6.240000    5.990000    6.230000   \n",
       "2     2012-11-07    6.200000    6.410000    6.162000    6.308000   \n",
       "3     2012-11-08    6.202000    6.376000    6.188000    6.262000   \n",
       "4     2012-11-09    6.120000    6.186000    5.970000    6.064000   \n",
       "...          ...         ...         ...         ...         ...   \n",
       "3547  2022-07-23  828.659973  842.359985  812.140015  816.729980   \n",
       "3548  2022-07-24  828.659973  842.359985  812.140015  816.729980   \n",
       "3549  2022-07-25  816.650024  822.440002  802.200012  805.299988   \n",
       "3550  2022-07-26  799.539978  801.929993  768.789978  776.580017   \n",
       "3551  2022-07-27  791.429993  827.780029  785.369995  824.460022   \n",
       "\n",
       "      TSLA_AdjClose  TSLA_Volume   AAPL_Open   AAPL_High    AAPL_Low  ...  \\\n",
       "0          6.300000   10244500.0   20.840000   20.991785   20.628571  ...   \n",
       "1          6.230000   11620000.0   21.079643   21.097857   20.717501  ...   \n",
       "2          6.308000    8572500.0   20.494286   20.519285   19.848213  ...   \n",
       "3          6.262000    6370000.0   20.022499   20.079643   19.117500  ...   \n",
       "4          6.064000    4315000.0   19.300714   19.817142   19.061428  ...   \n",
       "...             ...          ...         ...         ...         ...  ...   \n",
       "3547     816.729980   34421200.0  155.389999  156.279999  153.410004  ...   \n",
       "3548     816.729980   34421200.0  155.389999  156.279999  153.410004  ...   \n",
       "3549     805.299988   21357800.0  154.009995  155.039993  152.279999  ...   \n",
       "3550     776.580017   22273600.0  152.259995  153.089996  150.800003  ...   \n",
       "3551     824.460022   29286500.0  152.580002  157.330002  152.160004  ...   \n",
       "\n",
       "      DGS6MO  DGS10  BAMLH0A0HYM2  VXIBMCLS  USEPUINDXD  DCOILWTICO  \\\n",
       "0       0.15   1.72          5.57     19.64      225.43       85.64   \n",
       "1       0.15   1.78          5.49     19.60      195.50       88.62   \n",
       "2       0.14   1.68          5.63     20.49      358.00       84.50   \n",
       "3       0.15   1.62          5.67     20.85      241.14       85.07   \n",
       "4       0.15   1.61          5.77     20.82      278.07       86.08   \n",
       "...      ...    ...           ...       ...         ...         ...   \n",
       "3547    2.97   2.77          4.96     25.73       96.97       97.71   \n",
       "3548    2.97   2.77          4.96     25.73      212.51       97.71   \n",
       "3549    3.06   2.81          4.95     25.17      110.63       99.83   \n",
       "3550    3.06   2.81          5.06     25.24       30.93       99.83   \n",
       "3551    3.06   2.81          5.06     25.24       30.93       99.83   \n",
       "\n",
       "      TSLA_EPS_diluted  AAPL_EPS_diluted   TSLA_P/E   AAPL_P/E  \n",
       "0              -0.7440            1.5772  -8.467742  13.238198  \n",
       "1              -0.7440            1.5772  -8.373656  13.198117  \n",
       "2              -0.7440            1.5772  -8.478495  12.635412  \n",
       "3              -0.7440            1.5772  -8.416667  12.176868  \n",
       "4              -0.7440            1.5772  -8.150538  12.387685  \n",
       "...                ...               ...        ...        ...  \n",
       "3547            8.3024            6.1521  98.372757  25.046731  \n",
       "3548            8.3024            6.1521  98.372757  25.046731  \n",
       "3549            8.3024            6.1521  96.996048  24.861429  \n",
       "3550            8.3024            6.1521  93.536811  24.641993  \n",
       "3551            8.3024            6.1521  99.303818  25.485605  \n",
       "\n",
       "[3552 rows x 38 columns]"
      ]
     },
     "execution_count": 2,
     "metadata": {},
     "output_type": "execute_result"
    }
   ],
   "source": [
    "import pandas as pd\n",
    "\n",
    "df = pd.read_csv ('combined_dataset_daily_TSLA_AAPL.csv')\n",
    "df"
   ]
  },
  {
   "cell_type": "code",
   "execution_count": 3,
   "metadata": {},
   "outputs": [],
   "source": [
    "# return_period = 5\n",
    "# Y = np.log(df[tickers[0]+'_AdjClose']).diff(return_period).shift(-return_period)\n",
    "# Y.name = Y.name +'_pred'\n",
    "# lagged_data = [tickers[0]+'_14-high', tickers[0]+'_14-low', tickers[0]+'_%K', tickers[0]+'_%D',\n",
    "#                tickers[1]+'_14-high', tickers[1]+'_14-low', tickers[1]+'_%K', tickers[1]+'_%D',\n",
    "#                tickers[0]+'_%R', tickers[1]+'_%R',tickers[0]+'_RSI', tickers[1]+'_RSI']\n",
    "# response_variables = [tickers[0]+'_AdjClose']\n",
    "# X1 = df.loc[:, ~df.columns.isin([*lagged_data, *response_variables])].select_dtypes(exclude='object')\n",
    "# X1_lagged = np.log(X1).diff(return_period).shift(-return_period)\n",
    "# X2 = df.loc[:, df.columns.isin([*lagged_data])]\n",
    "# X = pd.concat([X1_lagged, X2], axis=1)\n",
    "# X.replace([np.inf, -np.inf], np.nan, inplace=True)\n",
    "# X.replace(np.nan, 0, inplace=True)\n",
    "# Y.replace([np.inf, -np.inf], np.nan, inplace=True)\n",
    "# Y.replace(np.nan, 0, inplace=True)\n",
    "# dataset = pd.concat([Y, X], axis=1).dropna().iloc[::return_period, :]\n",
    "# Y = dataset.loc[:, Y.name]\n",
    "# X = dataset.loc[:, X.columns]"
   ]
  },
  {
   "cell_type": "code",
   "execution_count": 4,
   "metadata": {},
   "outputs": [
    {
     "data": {
      "image/png": "[encoded data removed]",
      "text/plain": [
       "<Figure size 1152x576 with 1 Axes>"
      ]
     },
     "metadata": {},
     "output_type": "display_data"
    }
   ],
   "source": [
    "plt.figure(figsize = (16,8))\n",
    "plt.plot(df[\"AAPL_AdjClose\"])\n",
    "plt.plot(df[\"AAPL_Close\"])\n",
    "plt.title('AAPL stock price history')\n",
    "plt.ylabel('Price (USD)')\n",
    "plt.xlabel('Days')\n",
    "plt.legend(['Adjusted Close','Close'], loc='upper left')\n",
    "plt.show()"
   ]
  },
  {
   "cell_type": "code",
   "execution_count": 5,
   "metadata": {},
   "outputs": [
    {
     "data": {
      "text/plain": [
       "2842"
      ]
     },
     "execution_count": 5,
     "metadata": {},
     "output_type": "execute_result"
    }
   ],
   "source": [
    "data = df.filter(['AAPL_Close'])\n",
    "dataset = data.values\n",
    "#Get number of rows to train the model on\n",
    "training_data_len = math.ceil(len(dataset)* .8)\n",
    "\n",
    "training_data_len"
   ]
  },
  {
   "cell_type": "code",
   "execution_count": 6,
   "metadata": {},
   "outputs": [
    {
     "data": {
      "text/plain": [
       "array([[0.04124529],\n",
       "       [0.04086914],\n",
       "       [0.03558838],\n",
       "       ...,\n",
       "       [0.82708815],\n",
       "       [0.81905547],\n",
       "       [0.84993677]])"
      ]
     },
     "execution_count": 6,
     "metadata": {},
     "output_type": "execute_result"
    }
   ],
   "source": [
    "#Scale the data\n",
    "scaler = MinMaxScaler(feature_range = (0,1))\n",
    "scaled_data = scaler.fit_transform(dataset)\n",
    "\n",
    "scaled_data"
   ]
  },
  {
   "cell_type": "markdown",
   "metadata": {},
   "source": [
    "## Trying to predict using 60 days as timestep "
   ]
  },
  {
   "cell_type": "code",
   "execution_count": 7,
   "metadata": {},
   "outputs": [
    {
     "name": "stdout",
     "output_type": "stream",
     "text": [
      "[array([0.04124529, 0.04086914, 0.03558838, 0.03128513, 0.03326356,\n",
      "       0.03326356, 0.03326356, 0.03236466, 0.03237954, 0.03110025,\n",
      "       0.02870743, 0.0291452 , 0.0291452 , 0.0291452 , 0.03723105,\n",
      "       0.03620676, 0.03637465, 0.03637465, 0.0384572 , 0.0384572 ,\n",
      "       0.0384572 , 0.04228869, 0.04127929, 0.04088828, 0.04225256,\n",
      "       0.04138554, 0.04138554, 0.04138554, 0.04157891, 0.0393816 ,\n",
      "       0.03150614, 0.03330182, 0.03032886, 0.03032886, 0.03032886,\n",
      "       0.02959996, 0.03205865, 0.03155076, 0.02957233, 0.02534346,\n",
      "       0.02534346, 0.02534346, 0.02726451, 0.03046699, 0.02885406,\n",
      "       0.02788079, 0.02737077, 0.02737077, 0.02737077, 0.02754927,\n",
      "       0.02754927, 0.0260256 , 0.02646337, 0.02530096, 0.02530096,\n",
      "       0.02530096, 0.03009934, 0.03009934, 0.03368219, 0.03220953])]\n",
      "[0.029000688648637446]\n",
      "\n"
     ]
    }
   ],
   "source": [
    "train_data = scaled_data[0:training_data_len  , : ]\n",
    "\n",
    "x_train = []\n",
    "y_train = []\n",
    "for i in range(60, len(train_data)):\n",
    "    x_train.append(train_data[i-60:i, 0])\n",
    "    y_train.append(train_data[i, 0])\n",
    "    if i<=60:\n",
    "        print(x_train)\n",
    "        print(y_train)\n",
    "        print()\n",
    "\n"
   ]
  },
  {
   "cell_type": "code",
   "execution_count": 8,
   "metadata": {},
   "outputs": [
    {
     "name": "stdout",
     "output_type": "stream",
     "text": [
      "Number of rows and columns:  (2782, 60, 1)\n"
     ]
    }
   ],
   "source": [
    "# converting into numpy sequences to train the LSTM model\n",
    "x_train, y_train = np.array(x_train), np.array(y_train) \n",
    "x_train = np.reshape(x_train, (x_train.shape[0], x_train.shape[1], 1))\n",
    "print('Number of rows and columns: ', x_train.shape)  "
   ]
  },
  {
   "cell_type": "code",
   "execution_count": 9,
   "metadata": {},
   "outputs": [
    {
     "data": {
      "text/plain": [
       "(2782, 60, 1)"
      ]
     },
     "execution_count": 9,
     "metadata": {},
     "output_type": "execute_result"
    }
   ],
   "source": [
    "x_train.shape"
   ]
  },
  {
   "cell_type": "code",
   "execution_count": 10,
   "metadata": {},
   "outputs": [
    {
     "name": "stdout",
     "output_type": "stream",
     "text": [
      "Epoch 1/50\n",
      "87/87 [==============================] - 8s 40ms/step - loss: 6.6245e-04\n",
      "Epoch 2/50\n",
      "87/87 [==============================] - 3s 36ms/step - loss: 7.6515e-05\n",
      "Epoch 3/50\n",
      "87/87 [==============================] - 4s 41ms/step - loss: 8.5669e-05\n",
      "Epoch 4/50\n",
      "87/87 [==============================] - 3s 35ms/step - loss: 7.5291e-05\n",
      "Epoch 5/50\n",
      "87/87 [==============================] - 3s 37ms/step - loss: 7.0209e-05\n",
      "Epoch 6/50\n",
      "87/87 [==============================] - 3s 36ms/step - loss: 6.5801e-05\n",
      "Epoch 7/50\n",
      "87/87 [==============================] - 3s 35ms/step - loss: 6.4443e-05\n",
      "Epoch 8/50\n",
      "87/87 [==============================] - 3s 35ms/step - loss: 6.3099e-05\n",
      "Epoch 9/50\n",
      "87/87 [==============================] - 3s 34ms/step - loss: 6.3451e-05\n",
      "Epoch 10/50\n",
      "87/87 [==============================] - 3s 39ms/step - loss: 5.5581e-05\n",
      "Epoch 11/50\n",
      "87/87 [==============================] - 3s 37ms/step - loss: 5.4314e-05\n",
      "Epoch 12/50\n",
      "87/87 [==============================] - 3s 36ms/step - loss: 4.9322e-05\n",
      "Epoch 13/50\n",
      "87/87 [==============================] - 3s 36ms/step - loss: 4.7927e-05\n",
      "Epoch 14/50\n",
      "87/87 [==============================] - 3s 39ms/step - loss: 5.4020e-05\n",
      "Epoch 15/50\n",
      "87/87 [==============================] - 4s 44ms/step - loss: 5.2814e-05\n",
      "Epoch 16/50\n",
      "87/87 [==============================] - 4s 41ms/step - loss: 4.5235e-05\n",
      "Epoch 17/50\n",
      "87/87 [==============================] - 4s 47ms/step - loss: 4.5960e-05\n",
      "Epoch 18/50\n",
      "87/87 [==============================] - 4s 41ms/step - loss: 4.8150e-05\n",
      "Epoch 19/50\n",
      "87/87 [==============================] - 4s 42ms/step - loss: 4.7494e-05\n",
      "Epoch 20/50\n",
      "87/87 [==============================] - 4s 42ms/step - loss: 4.0361e-05\n",
      "Epoch 21/50\n",
      "87/87 [==============================] - 4s 50ms/step - loss: 4.7450e-05\n",
      "Epoch 22/50\n",
      "87/87 [==============================] - 5s 61ms/step - loss: 3.9383e-05\n",
      "Epoch 23/50\n",
      "87/87 [==============================] - 4s 45ms/step - loss: 3.9667e-05\n",
      "Epoch 24/50\n",
      "87/87 [==============================] - 4s 45ms/step - loss: 3.7512e-05\n",
      "Epoch 25/50\n",
      "87/87 [==============================] - 6s 74ms/step - loss: 4.1161e-05\n",
      "Epoch 26/50\n",
      "87/87 [==============================] - 4s 47ms/step - loss: 3.7810e-05\n",
      "Epoch 27/50\n",
      "87/87 [==============================] - 3s 39ms/step - loss: 4.2517e-05\n",
      "Epoch 28/50\n",
      "87/87 [==============================] - 3s 39ms/step - loss: 3.0992e-05\n",
      "Epoch 29/50\n",
      "87/87 [==============================] - 4s 45ms/step - loss: 3.0041e-05\n",
      "Epoch 30/50\n",
      "87/87 [==============================] - 4s 41ms/step - loss: 2.7749e-05\n",
      "Epoch 31/50\n",
      "87/87 [==============================] - 3s 37ms/step - loss: 3.9047e-05\n",
      "Epoch 32/50\n",
      "87/87 [==============================] - 3s 38ms/step - loss: 3.0669e-05\n",
      "Epoch 33/50\n",
      "87/87 [==============================] - 4s 46ms/step - loss: 2.8626e-05\n",
      "Epoch 34/50\n",
      "87/87 [==============================] - 4s 44ms/step - loss: 3.0177e-05\n",
      "Epoch 35/50\n",
      "87/87 [==============================] - 4s 45ms/step - loss: 2.5262e-05\n",
      "Epoch 36/50\n",
      "87/87 [==============================] - 3s 39ms/step - loss: 2.9917e-05\n",
      "Epoch 37/50\n",
      "87/87 [==============================] - 4s 50ms/step - loss: 2.8738e-05\n",
      "Epoch 38/50\n",
      "87/87 [==============================] - 3s 37ms/step - loss: 2.8193e-05\n",
      "Epoch 39/50\n",
      "87/87 [==============================] - 3s 37ms/step - loss: 2.7867e-05\n",
      "Epoch 40/50\n",
      "87/87 [==============================] - 4s 46ms/step - loss: 2.6114e-05\n",
      "Epoch 41/50\n",
      "87/87 [==============================] - 4s 49ms/step - loss: 3.3133e-05\n",
      "Epoch 42/50\n",
      "87/87 [==============================] - 4s 41ms/step - loss: 2.6146e-05\n",
      "Epoch 43/50\n",
      "87/87 [==============================] - 4s 43ms/step - loss: 2.7534e-05\n",
      "Epoch 44/50\n",
      "87/87 [==============================] - 5s 52ms/step - loss: 2.3822e-05\n",
      "Epoch 45/50\n",
      "87/87 [==============================] - 3s 37ms/step - loss: 3.5255e-05\n",
      "Epoch 46/50\n",
      "87/87 [==============================] - 3s 36ms/step - loss: 2.3790e-05\n",
      "Epoch 47/50\n",
      "87/87 [==============================] - 4s 44ms/step - loss: 2.5063e-05\n",
      "Epoch 48/50\n",
      "87/87 [==============================] - 4s 45ms/step - loss: 2.5194e-05\n",
      "Epoch 49/50\n",
      "87/87 [==============================] - 3s 37ms/step - loss: 2.8955e-05\n",
      "Epoch 50/50\n",
      "87/87 [==============================] - 3s 37ms/step - loss: 2.5275e-05\n"
     ]
    },
    {
     "data": {
      "text/plain": [
       "<keras.callbacks.History at 0x1fb384b52e0>"
      ]
     },
     "execution_count": 10,
     "metadata": {},
     "output_type": "execute_result"
    }
   ],
   "source": [
    "model = Sequential()\n",
    "\n",
    "#Adding the first LSTM layer and some Dropout regularisation\n",
    "model.add(LSTM(50, return_sequences = True, input_shape = (x_train.shape[1], 1)))\n",
    "model.add(LSTM(50, return_sequences = False))\n",
    "\n",
    "model.add(Dense(25))\n",
    "model.add(Dense(1))\n",
    "\n",
    "\n",
    "\n",
    "model.compile(optimizer = 'adam', loss = 'mean_squared_error')\n",
    "\n",
    "# Fitting the RNN to the Training set\n",
    "model.fit(x_train, y_train, epochs = 50, batch_size = 32)"
   ]
  },
  {
   "cell_type": "code",
   "execution_count": 11,
   "metadata": {},
   "outputs": [],
   "source": [
    "# # We add the LSTM layer and later add a few Dropout layers to prevent overfitting.\n",
    "# # Building a LTSM model with 50 neurons and 4 hidden layers. We add the LSTM layer with the following arguments:\n",
    "# # 50 units which is the dimensionality of the output space\n",
    "# # return_sequences=True which determines whether to return the last output in the output sequence, or the full sequence input_shape as the shape of our training set.\n",
    "# # When defining the Dropout layers, we specify 0.2, meaning that 20% of the layers will be dropped.\n",
    "# # Thereafter, we add the Dense layer that specifies the output of 1 unit.\n",
    "# # After this, we compile our model using the popular adam optimizer and set the loss as the mean_squarred_error.\n",
    "\n",
    "# model = Sequential()\n",
    "\n",
    "# #Adding the first LSTM layer and some Dropout regularisation\n",
    "# model.add(LSTM(units = 50, return_sequences = True, input_shape = (x_train.shape[1], 1)))\n",
    "# model.add(Dropout(0.2))\n",
    "\n",
    "# # Adding a second LSTM layer and some Dropout regularisation\n",
    "# model.add(LSTM(units = 50, return_sequences = True))\n",
    "# model.add(Dropout(0.2))\n",
    "\n",
    "# # Adding a fourth LSTM layer and some Dropout regularisation\n",
    "# model.add(LSTM(units = 50))\n",
    "# model.add(Dropout(0.2))\n",
    "\n",
    "# # Adding the output layer\n",
    "# model.add(Dense(units = 1))\n",
    "\n",
    "# # Compiling the RNN\n",
    "# model.compile(optimizer = 'adam', loss = 'mean_squared_error')\n",
    "\n",
    "# # Fitting the RNN to the Training set\n",
    "# model.fit(x_train, y_train, epochs = 50, batch_size = 32)"
   ]
  },
  {
   "cell_type": "code",
   "execution_count": 12,
   "metadata": {},
   "outputs": [
    {
     "name": "stdout",
     "output_type": "stream",
     "text": [
      "Model: \"sequential\"\n",
      "_________________________________________________________________\n",
      " Layer (type)                Output Shape              Param #   \n",
      "=================================================================\n",
      " lstm (LSTM)                 (None, 60, 50)            10400     \n",
      "                                                                 \n",
      " lstm_1 (LSTM)               (None, 50)                20200     \n",
      "                                                                 \n",
      " dense (Dense)               (None, 25)                1275      \n",
      "                                                                 \n",
      " dense_1 (Dense)             (None, 1)                 26        \n",
      "                                                                 \n",
      "=================================================================\n",
      "Total params: 31,901\n",
      "Trainable params: 31,901\n",
      "Non-trainable params: 0\n",
      "_________________________________________________________________\n"
     ]
    }
   ],
   "source": [
    "model.summary()"
   ]
  },
  {
   "cell_type": "code",
   "execution_count": 13,
   "metadata": {},
   "outputs": [],
   "source": [
    "# Getting the predicted stock price\n",
    "test_data = scaled_data[training_data_len - 60: , : ]\n",
    "\n",
    "#Create the x_test and y_test data sets\n",
    "x_test = []\n",
    "y_test = dataset[training_data_len : , : ]\n",
    "for i in range(60,len(test_data)):\n",
    "    x_test.append(test_data[i-60:i,0])\n",
    "\n",
    "# Convert x_test to a numpy array\n",
    "x_test = np.array(x_test)\n"
   ]
  },
  {
   "cell_type": "code",
   "execution_count": 14,
   "metadata": {},
   "outputs": [
    {
     "name": "stdout",
     "output_type": "stream",
     "text": [
      "Number of rows and columns:  (710, 60, 1)\n"
     ]
    }
   ],
   "source": [
    "#Reshape the data into the shape accepted by the LSTM\n",
    "x_test = np.reshape(x_test, (x_test.shape[0],x_test.shape[1],1))\n",
    "print('Number of rows and columns: ', x_test.shape)"
   ]
  },
  {
   "cell_type": "code",
   "execution_count": 15,
   "metadata": {},
   "outputs": [],
   "source": [
    "# Making predictions using the test dataset\n",
    "predictions = model.predict(x_test)\n",
    "predictions = scaler.inverse_transform(predictions)"
   ]
  },
  {
   "cell_type": "code",
   "execution_count": 16,
   "metadata": {},
   "outputs": [
    {
     "data": {
      "text/plain": [
       "2.3567257014573357"
      ]
     },
     "execution_count": 16,
     "metadata": {},
     "output_type": "execute_result"
    }
   ],
   "source": [
    "#Get rmse\n",
    "#\n",
    "rmse=np.sqrt(np.mean(((predictions- y_test)**2)))\n",
    "rmse"
   ]
  },
  {
   "cell_type": "code",
   "execution_count": 17,
   "metadata": {},
   "outputs": [
    {
     "data": {
      "text/plain": [
       "1.142171050494351"
      ]
     },
     "execution_count": 17,
     "metadata": {},
     "output_type": "execute_result"
    }
   ],
   "source": [
    "#Mean Absolute Percentage Error - subtract from 100 and this is the accuracy? So like 97% which is pretty good\n",
    "mape = np.mean(np.absolute((y_test- predictions)/y_test))* 100\n",
    "mape"
   ]
  },
  {
   "cell_type": "code",
   "execution_count": 18,
   "metadata": {},
   "outputs": [
    {
     "name": "stderr",
     "output_type": "stream",
     "text": [
      "<ipython-input-18-560c13bc2aae>:4: SettingWithCopyWarning: \n",
      "A value is trying to be set on a copy of a slice from a DataFrame.\n",
      "Try using .loc[row_indexer,col_indexer] = value instead\n",
      "\n",
      "See the caveats in the documentation: https://pandas.pydata.org/pandas-docs/stable/user_guide/indexing.html#returning-a-view-versus-a-copy\n",
      "  valid['Predictions'] = predictions\n"
     ]
    },
    {
     "data": {
      "image/png": "[encoded data removed]",
      "text/plain": [
       "<Figure size 1152x360 with 1 Axes>"
      ]
     },
     "metadata": {},
     "output_type": "display_data"
    }
   ],
   "source": [
    "# Visualising the results\n",
    "train = data[:training_data_len]\n",
    "valid = data[training_data_len:]\n",
    "valid['Predictions'] = predictions\n",
    "plt.figure(figsize=(16,5))\n",
    "\n",
    "plt.title('Model')\n",
    "plt.xlabel('Date', fontsize=8)\n",
    "plt.ylabel('Close Price USD ($)', fontsize=12)\n",
    "plt.plot(train['AAPL_Close'])\n",
    "plt.plot(valid[['AAPL_Close', 'Predictions']])\n",
    "plt.legend(['Train', 'Val', 'Predictions'], loc='lower right')\n",
    "plt.show()"
   ]
  },
  {
   "cell_type": "code",
   "execution_count": 19,
   "metadata": {},
   "outputs": [
    {
     "data": {
      "text/html": [
       "<div>\n",
       "<style scoped>\n",
       "    .dataframe tbody tr th:only-of-type {\n",
       "        vertical-align: middle;\n",
       "    }\n",
       "\n",
       "    .dataframe tbody tr th {\n",
       "        vertical-align: top;\n",
       "    }\n",
       "\n",
       "    .dataframe thead th {\n",
       "        text-align: right;\n",
       "    }\n",
       "</style>\n",
       "<table border=\"1\" class=\"dataframe\">\n",
       "  <thead>\n",
       "    <tr style=\"text-align: right;\">\n",
       "      <th></th>\n",
       "      <th>AAPL_Close</th>\n",
       "      <th>Predictions</th>\n",
       "    </tr>\n",
       "  </thead>\n",
       "  <tbody>\n",
       "    <tr>\n",
       "      <th>2842</th>\n",
       "      <td>114.607498</td>\n",
       "      <td>114.989288</td>\n",
       "    </tr>\n",
       "    <tr>\n",
       "      <th>2843</th>\n",
       "      <td>115.562500</td>\n",
       "      <td>114.585472</td>\n",
       "    </tr>\n",
       "    <tr>\n",
       "      <th>2844</th>\n",
       "      <td>115.707497</td>\n",
       "      <td>115.252594</td>\n",
       "    </tr>\n",
       "    <tr>\n",
       "      <th>2845</th>\n",
       "      <td>118.275002</td>\n",
       "      <td>115.624680</td>\n",
       "    </tr>\n",
       "    <tr>\n",
       "      <th>2846</th>\n",
       "      <td>124.370003</td>\n",
       "      <td>117.857071</td>\n",
       "    </tr>\n",
       "    <tr>\n",
       "      <th>...</th>\n",
       "      <td>...</td>\n",
       "      <td>...</td>\n",
       "    </tr>\n",
       "    <tr>\n",
       "      <th>3547</th>\n",
       "      <td>154.089996</td>\n",
       "      <td>154.586609</td>\n",
       "    </tr>\n",
       "    <tr>\n",
       "      <th>3548</th>\n",
       "      <td>154.089996</td>\n",
       "      <td>153.939987</td>\n",
       "    </tr>\n",
       "    <tr>\n",
       "      <th>3549</th>\n",
       "      <td>152.949997</td>\n",
       "      <td>153.717621</td>\n",
       "    </tr>\n",
       "    <tr>\n",
       "      <th>3550</th>\n",
       "      <td>151.600006</td>\n",
       "      <td>152.618729</td>\n",
       "    </tr>\n",
       "    <tr>\n",
       "      <th>3551</th>\n",
       "      <td>156.789993</td>\n",
       "      <td>151.172272</td>\n",
       "    </tr>\n",
       "  </tbody>\n",
       "</table>\n",
       "<p>710 rows × 2 columns</p>\n",
       "</div>"
      ],
      "text/plain": [
       "      AAPL_Close  Predictions\n",
       "2842  114.607498   114.989288\n",
       "2843  115.562500   114.585472\n",
       "2844  115.707497   115.252594\n",
       "2845  118.275002   115.624680\n",
       "2846  124.370003   117.857071\n",
       "...          ...          ...\n",
       "3547  154.089996   154.586609\n",
       "3548  154.089996   153.939987\n",
       "3549  152.949997   153.717621\n",
       "3550  151.600006   152.618729\n",
       "3551  156.789993   151.172272\n",
       "\n",
       "[710 rows x 2 columns]"
      ]
     },
     "execution_count": 19,
     "metadata": {},
     "output_type": "execute_result"
    }
   ],
   "source": [
    "valid"
   ]
  },
  {
   "cell_type": "markdown",
   "metadata": {},
   "source": [
    "### PREDICTING CLOSING PRICE FOR NEXT DAY"
   ]
  },
  {
   "cell_type": "code",
   "execution_count": 35,
   "metadata": {},
   "outputs": [
    {
     "ename": "ValueError",
     "evalue": "in user code:\n\n    File \"C:\\Users\\riama\\anaconda3\\lib\\site-packages\\keras\\engine\\training.py\", line 1801, in predict_function  *\n        return step_function(self, iterator)\n    File \"C:\\Users\\riama\\anaconda3\\lib\\site-packages\\keras\\engine\\training.py\", line 1790, in step_function  **\n        outputs = model.distribute_strategy.run(run_step, args=(data,))\n    File \"C:\\Users\\riama\\anaconda3\\lib\\site-packages\\keras\\engine\\training.py\", line 1783, in run_step  **\n        outputs = model.predict_step(data)\n    File \"C:\\Users\\riama\\anaconda3\\lib\\site-packages\\keras\\engine\\training.py\", line 1751, in predict_step\n        return self(x, training=False)\n    File \"C:\\Users\\riama\\anaconda3\\lib\\site-packages\\keras\\utils\\traceback_utils.py\", line 67, in error_handler\n        raise e.with_traceback(filtered_tb) from None\n    File \"C:\\Users\\riama\\anaconda3\\lib\\site-packages\\keras\\engine\\input_spec.py\", line 264, in assert_input_compatibility\n        raise ValueError(f'Input {input_index} of layer \"{layer_name}\" is '\n\n    ValueError: Input 0 of layer \"sequential_1\" is incompatible with the layer: expected shape=(None, 30, 1), found shape=(None, 60, 1)\n",
     "output_type": "error",
     "traceback": [
      "\u001b[1;31m---------------------------------------------------------------------------\u001b[0m",
      "\u001b[1;31mValueError\u001b[0m                                Traceback (most recent call last)",
      "\u001b[1;32m<ipython-input-35-e4791db0c9f3>\u001b[0m in \u001b[0;36m<module>\u001b[1;34m\u001b[0m\n\u001b[0;32m     12\u001b[0m \u001b[0mX_test\u001b[0m \u001b[1;33m=\u001b[0m \u001b[0mnp\u001b[0m\u001b[1;33m.\u001b[0m\u001b[0mreshape\u001b[0m\u001b[1;33m(\u001b[0m\u001b[0mX_test\u001b[0m\u001b[1;33m,\u001b[0m \u001b[1;33m(\u001b[0m\u001b[0mX_test\u001b[0m\u001b[1;33m.\u001b[0m\u001b[0mshape\u001b[0m\u001b[1;33m[\u001b[0m\u001b[1;36m0\u001b[0m\u001b[1;33m]\u001b[0m\u001b[1;33m,\u001b[0m \u001b[0mX_test\u001b[0m\u001b[1;33m.\u001b[0m\u001b[0mshape\u001b[0m\u001b[1;33m[\u001b[0m\u001b[1;36m1\u001b[0m\u001b[1;33m]\u001b[0m\u001b[1;33m,\u001b[0m \u001b[1;36m1\u001b[0m\u001b[1;33m)\u001b[0m\u001b[1;33m)\u001b[0m\u001b[1;33m\u001b[0m\u001b[1;33m\u001b[0m\u001b[0m\n\u001b[0;32m     13\u001b[0m \u001b[1;33m\u001b[0m\u001b[0m\n\u001b[1;32m---> 14\u001b[1;33m \u001b[0mpred_price\u001b[0m \u001b[1;33m=\u001b[0m \u001b[0mmodel\u001b[0m\u001b[1;33m.\u001b[0m\u001b[0mpredict\u001b[0m\u001b[1;33m(\u001b[0m\u001b[0mX_test\u001b[0m\u001b[1;33m)\u001b[0m\u001b[1;33m\u001b[0m\u001b[1;33m\u001b[0m\u001b[0m\n\u001b[0m\u001b[0;32m     15\u001b[0m \u001b[1;33m\u001b[0m\u001b[0m\n\u001b[0;32m     16\u001b[0m \u001b[0mpred_price\u001b[0m \u001b[1;33m=\u001b[0m \u001b[0mscaler\u001b[0m\u001b[1;33m.\u001b[0m\u001b[0minverse_transform\u001b[0m\u001b[1;33m(\u001b[0m\u001b[0mpred_price\u001b[0m\u001b[1;33m)\u001b[0m\u001b[1;33m\u001b[0m\u001b[1;33m\u001b[0m\u001b[0m\n",
      "\u001b[1;32m~\\anaconda3\\lib\\site-packages\\keras\\utils\\traceback_utils.py\u001b[0m in \u001b[0;36merror_handler\u001b[1;34m(*args, **kwargs)\u001b[0m\n\u001b[0;32m     65\u001b[0m     \u001b[1;32mexcept\u001b[0m \u001b[0mException\u001b[0m \u001b[1;32mas\u001b[0m \u001b[0me\u001b[0m\u001b[1;33m:\u001b[0m  \u001b[1;31m# pylint: disable=broad-except\u001b[0m\u001b[1;33m\u001b[0m\u001b[1;33m\u001b[0m\u001b[0m\n\u001b[0;32m     66\u001b[0m       \u001b[0mfiltered_tb\u001b[0m \u001b[1;33m=\u001b[0m \u001b[0m_process_traceback_frames\u001b[0m\u001b[1;33m(\u001b[0m\u001b[0me\u001b[0m\u001b[1;33m.\u001b[0m\u001b[0m__traceback__\u001b[0m\u001b[1;33m)\u001b[0m\u001b[1;33m\u001b[0m\u001b[1;33m\u001b[0m\u001b[0m\n\u001b[1;32m---> 67\u001b[1;33m       \u001b[1;32mraise\u001b[0m \u001b[0me\u001b[0m\u001b[1;33m.\u001b[0m\u001b[0mwith_traceback\u001b[0m\u001b[1;33m(\u001b[0m\u001b[0mfiltered_tb\u001b[0m\u001b[1;33m)\u001b[0m \u001b[1;32mfrom\u001b[0m \u001b[1;32mNone\u001b[0m\u001b[1;33m\u001b[0m\u001b[1;33m\u001b[0m\u001b[0m\n\u001b[0m\u001b[0;32m     68\u001b[0m     \u001b[1;32mfinally\u001b[0m\u001b[1;33m:\u001b[0m\u001b[1;33m\u001b[0m\u001b[1;33m\u001b[0m\u001b[0m\n\u001b[0;32m     69\u001b[0m       \u001b[1;32mdel\u001b[0m \u001b[0mfiltered_tb\u001b[0m\u001b[1;33m\u001b[0m\u001b[1;33m\u001b[0m\u001b[0m\n",
      "\u001b[1;32m~\\anaconda3\\lib\\site-packages\\tensorflow\\python\\framework\\func_graph.py\u001b[0m in \u001b[0;36mautograph_handler\u001b[1;34m(*args, **kwargs)\u001b[0m\n\u001b[0;32m   1145\u001b[0m           \u001b[1;32mexcept\u001b[0m \u001b[0mException\u001b[0m \u001b[1;32mas\u001b[0m \u001b[0me\u001b[0m\u001b[1;33m:\u001b[0m  \u001b[1;31m# pylint:disable=broad-except\u001b[0m\u001b[1;33m\u001b[0m\u001b[1;33m\u001b[0m\u001b[0m\n\u001b[0;32m   1146\u001b[0m             \u001b[1;32mif\u001b[0m \u001b[0mhasattr\u001b[0m\u001b[1;33m(\u001b[0m\u001b[0me\u001b[0m\u001b[1;33m,\u001b[0m \u001b[1;34m\"ag_error_metadata\"\u001b[0m\u001b[1;33m)\u001b[0m\u001b[1;33m:\u001b[0m\u001b[1;33m\u001b[0m\u001b[1;33m\u001b[0m\u001b[0m\n\u001b[1;32m-> 1147\u001b[1;33m               \u001b[1;32mraise\u001b[0m \u001b[0me\u001b[0m\u001b[1;33m.\u001b[0m\u001b[0mag_error_metadata\u001b[0m\u001b[1;33m.\u001b[0m\u001b[0mto_exception\u001b[0m\u001b[1;33m(\u001b[0m\u001b[0me\u001b[0m\u001b[1;33m)\u001b[0m\u001b[1;33m\u001b[0m\u001b[1;33m\u001b[0m\u001b[0m\n\u001b[0m\u001b[0;32m   1148\u001b[0m             \u001b[1;32melse\u001b[0m\u001b[1;33m:\u001b[0m\u001b[1;33m\u001b[0m\u001b[1;33m\u001b[0m\u001b[0m\n\u001b[0;32m   1149\u001b[0m               \u001b[1;32mraise\u001b[0m\u001b[1;33m\u001b[0m\u001b[1;33m\u001b[0m\u001b[0m\n",
      "\u001b[1;31mValueError\u001b[0m: in user code:\n\n    File \"C:\\Users\\riama\\anaconda3\\lib\\site-packages\\keras\\engine\\training.py\", line 1801, in predict_function  *\n        return step_function(self, iterator)\n    File \"C:\\Users\\riama\\anaconda3\\lib\\site-packages\\keras\\engine\\training.py\", line 1790, in step_function  **\n        outputs = model.distribute_strategy.run(run_step, args=(data,))\n    File \"C:\\Users\\riama\\anaconda3\\lib\\site-packages\\keras\\engine\\training.py\", line 1783, in run_step  **\n        outputs = model.predict_step(data)\n    File \"C:\\Users\\riama\\anaconda3\\lib\\site-packages\\keras\\engine\\training.py\", line 1751, in predict_step\n        return self(x, training=False)\n    File \"C:\\Users\\riama\\anaconda3\\lib\\site-packages\\keras\\utils\\traceback_utils.py\", line 67, in error_handler\n        raise e.with_traceback(filtered_tb) from None\n    File \"C:\\Users\\riama\\anaconda3\\lib\\site-packages\\keras\\engine\\input_spec.py\", line 264, in assert_input_compatibility\n        raise ValueError(f'Input {input_index} of layer \"{layer_name}\" is '\n\n    ValueError: Input 0 of layer \"sequential_1\" is incompatible with the layer: expected shape=(None, 30, 1), found shape=(None, 60, 1)\n"
     ]
    }
   ],
   "source": [
    "#Try and predict closing price \n",
    "tsla_quote = web.DataReader('AAPL', data_source='yahoo', start = '2012-01-01', end = '2022-7-14')\n",
    "new_df = tsla_quote.filter(['Close'])\n",
    "\n",
    "#Get the last 60 day closing price values and convert the dataframe to an array\n",
    "last_60_days = new_df[-60:].values\n",
    "last_60_days_scaled = scaler.transform(last_60_days)\n",
    "\n",
    "X_test = []\n",
    "X_test.append(last_60_days_scaled)\n",
    "X_test = np.array(X_test)\n",
    "X_test = np.reshape(X_test, (X_test.shape[0], X_test.shape[1], 1))\n",
    "\n",
    "pred_price = model.predict(X_test)\n",
    "\n",
    "pred_price = scaler.inverse_transform(pred_price)\n",
    "\n",
    "print(pred_price)"
   ]
  },
  {
   "cell_type": "code",
   "execution_count": 21,
   "metadata": {},
   "outputs": [
    {
     "name": "stdout",
     "output_type": "stream",
     "text": [
      "Date\n",
      "2012-01-03    14.686786\n",
      "2012-01-04    14.765714\n",
      "2012-01-05    14.929643\n",
      "2012-01-06    15.085714\n",
      "2012-01-09    15.061786\n",
      "                ...    \n",
      "2019-12-11    67.692497\n",
      "2019-12-12    67.864998\n",
      "2019-12-13    68.787498\n",
      "2019-12-16    69.964996\n",
      "2019-12-17    70.102501\n",
      "Name: Close, Length: 2003, dtype: float64\n"
     ]
    }
   ],
   "source": [
    "#Actaul closing\n",
    "tsla_quote_actual = web.DataReader('AAPL', data_source='yahoo', start = '2012-01-01', end = '2022-7-15')\n",
    "print(tsla_quote_actual['Close'])"
   ]
  },
  {
   "cell_type": "code",
   "execution_count": null,
   "metadata": {},
   "outputs": [],
   "source": []
  },
  {
   "cell_type": "code",
   "execution_count": null,
   "metadata": {},
   "outputs": [],
   "source": []
  },
  {
   "cell_type": "markdown",
   "metadata": {},
   "source": [
    "## Trying to predict using 30 days as timestep "
   ]
  },
  {
   "cell_type": "code",
   "execution_count": 36,
   "metadata": {},
   "outputs": [
    {
     "name": "stdout",
     "output_type": "stream",
     "text": [
      "[array([0.04124529, 0.04086914, 0.03558838, 0.03128513, 0.03326356,\n",
      "       0.03326356, 0.03326356, 0.03236466, 0.03237954, 0.03110025,\n",
      "       0.02870743, 0.0291452 , 0.0291452 , 0.0291452 , 0.03723105,\n",
      "       0.03620676, 0.03637465, 0.03637465, 0.0384572 , 0.0384572 ,\n",
      "       0.0384572 , 0.04228869, 0.04127929, 0.04088828, 0.04225256,\n",
      "       0.04138554, 0.04138554, 0.04138554, 0.04157891, 0.0393816 ,\n",
      "       0.03150614, 0.03330182, 0.03032886, 0.03032886, 0.03032886,\n",
      "       0.02959996, 0.03205865, 0.03155076, 0.02957233, 0.02534346,\n",
      "       0.02534346, 0.02534346, 0.02726451, 0.03046699, 0.02885406,\n",
      "       0.02788079, 0.02737077, 0.02737077, 0.02737077, 0.02754927,\n",
      "       0.02754927, 0.0260256 , 0.02646337, 0.02530096, 0.02530096,\n",
      "       0.02530096, 0.03009934, 0.03009934, 0.03368219, 0.03220953,\n",
      "       0.02900069, 0.02900069, 0.02900069, 0.02834192, 0.02864155,\n",
      "       0.02689688, 0.02825905, 0.02757691, 0.02757691, 0.02757691,\n",
      "       0.02363492, 0.02027095, 0.02455719, 0.02383254, 0.02326303,\n",
      "       0.02326303, 0.02326303, 0.02326303, 0.02427668, 0.02624024,\n",
      "       0.01274399, 0.01048717, 0.01048717, 0.01048717, 0.0126016 ,\n",
      "       0.01439515, 0.01408915, 0.01380439, 0.013407  , 0.013407  ,\n",
      "       0.013407  , 0.01100568, 0.01430378, 0.01419965, 0.01650959,\n",
      "       0.01794613, 0.01794613, 0.01794613, 0.01899803, 0.01644159,\n",
      "       0.01625246, 0.01616321, 0.01479679, 0.01479679, 0.01479679,\n",
      "       0.01479679, 0.01476066, 0.01239335, 0.01180045, 0.01280986,\n",
      "       0.01280986, 0.01280986, 0.01110769, 0.01241885, 0.01148382,\n",
      "       0.01081018, 0.00848749, 0.00848749, 0.00848749, 0.00627318,\n",
      "       0.00862986, 0.00746533, 0.00851086, 0.00875312, 0.00875312,\n",
      "       0.00875312, 0.01006003, 0.00805397, 0.00803697, 0.00891888,\n",
      "       0.01129044, 0.01129044, 0.01129044, 0.01385327, 0.01359189,\n",
      "       0.01307974, 0.01321787, 0.01516868, 0.01516868, 0.01516868,\n",
      "       0.01552356, 0.01500505, 0.01307974, 0.01107794, 0.01107794,\n",
      "       0.01107794, 0.01107794, 0.00815598, 0.00834298, 0.0088105 ,\n",
      "       0.00790309, 0.00694257, 0.00694257, 0.00694257, 0.00758221,\n",
      "       0.00774584, 0.00959677, 0.00930777, 0.00834511, 0.00834511,\n",
      "       0.00834511, 0.00623068, 0.00758859, 0.00260744, 0.00032301,\n",
      "       0.        , 0.        , 0.        , 0.00172979, 0.0033151 ,\n",
      "       0.00317271, 0.00379323, 0.00566753, 0.00566753, 0.00566753,\n",
      "       0.00841311, 0.01110343, 0.01036179, 0.01168571, 0.01263348])]\n",
      "[0.012633483340834875]\n",
      "\n"
     ]
    }
   ],
   "source": [
    "train_data = scaled_data[0:training_data_len  , : ]\n",
    "\n",
    "x_train = []\n",
    "y_train = []\n",
    "for i in range(180, len(train_data)):\n",
    "    x_train.append(train_data[i-180:i, 0])\n",
    "    y_train.append(train_data[i, 0])\n",
    "    if i<=180:\n",
    "        print(x_train)\n",
    "        print(y_train)\n",
    "        print()\n",
    "\n"
   ]
  },
  {
   "cell_type": "code",
   "execution_count": 37,
   "metadata": {},
   "outputs": [
    {
     "name": "stdout",
     "output_type": "stream",
     "text": [
      "Number of rows and columns:  (2662, 180, 1)\n"
     ]
    }
   ],
   "source": [
    "# converting into numpy sequences to train the LSTM model\n",
    "x_train, y_train = np.array(x_train), np.array(y_train) \n",
    "x_train = np.reshape(x_train, (x_train.shape[0], x_train.shape[1], 1))\n",
    "print('Number of rows and columns: ', x_train.shape)  "
   ]
  },
  {
   "cell_type": "code",
   "execution_count": 38,
   "metadata": {},
   "outputs": [
    {
     "data": {
      "text/plain": [
       "(2662, 180, 1)"
      ]
     },
     "execution_count": 38,
     "metadata": {},
     "output_type": "execute_result"
    }
   ],
   "source": [
    "x_train.shape"
   ]
  },
  {
   "cell_type": "code",
   "execution_count": 39,
   "metadata": {},
   "outputs": [
    {
     "name": "stdout",
     "output_type": "stream",
     "text": [
      "Epoch 1/50\n",
      "84/84 [==============================] - 25s 171ms/step - loss: 0.0013\n",
      "Epoch 2/50\n",
      "84/84 [==============================] - 16s 190ms/step - loss: 8.0501e-05\n",
      "Epoch 3/50\n",
      "84/84 [==============================] - 15s 180ms/step - loss: 9.5867e-05\n",
      "Epoch 4/50\n",
      "84/84 [==============================] - 15s 177ms/step - loss: 7.4675e-05\n",
      "Epoch 5/50\n",
      "84/84 [==============================] - 16s 185ms/step - loss: 7.3538e-05\n",
      "Epoch 6/50\n",
      "84/84 [==============================] - 14s 166ms/step - loss: 7.6638e-05\n",
      "Epoch 7/50\n",
      "84/84 [==============================] - 20s 234ms/step - loss: 7.0546e-05\n",
      "Epoch 8/50\n",
      "84/84 [==============================] - 15s 174ms/step - loss: 5.9972e-05\n",
      "Epoch 9/50\n",
      "84/84 [==============================] - 14s 170ms/step - loss: 5.6488e-05\n",
      "Epoch 10/50\n",
      "84/84 [==============================] - 15s 181ms/step - loss: 5.6982e-05\n",
      "Epoch 11/50\n",
      "84/84 [==============================] - 16s 194ms/step - loss: 6.5260e-05\n",
      "Epoch 12/50\n",
      "84/84 [==============================] - 18s 219ms/step - loss: 5.6862e-05\n",
      "Epoch 13/50\n",
      "84/84 [==============================] - 15s 177ms/step - loss: 7.0994e-05\n",
      "Epoch 14/50\n",
      "84/84 [==============================] - 16s 195ms/step - loss: 6.6686e-05\n",
      "Epoch 15/50\n",
      "84/84 [==============================] - 14s 162ms/step - loss: 5.8810e-05\n",
      "Epoch 16/50\n",
      "84/84 [==============================] - 14s 164ms/step - loss: 5.3773e-05\n",
      "Epoch 17/50\n",
      "84/84 [==============================] - 14s 167ms/step - loss: 4.9359e-05\n",
      "Epoch 18/50\n",
      "84/84 [==============================] - 13s 149ms/step - loss: 4.9598e-05\n",
      "Epoch 19/50\n",
      "84/84 [==============================] - 10s 118ms/step - loss: 4.5002e-05\n",
      "Epoch 20/50\n",
      "84/84 [==============================] - 11s 129ms/step - loss: 4.0769e-05\n",
      "Epoch 21/50\n",
      "84/84 [==============================] - 10s 120ms/step - loss: 4.2732e-05\n",
      "Epoch 22/50\n",
      "84/84 [==============================] - 9s 105ms/step - loss: 5.4837e-05\n",
      "Epoch 23/50\n",
      "84/84 [==============================] - 10s 115ms/step - loss: 3.7298e-05\n",
      "Epoch 24/50\n",
      "84/84 [==============================] - 10s 114ms/step - loss: 3.8129e-05\n",
      "Epoch 25/50\n",
      "84/84 [==============================] - 11s 126ms/step - loss: 4.0863e-05\n",
      "Epoch 26/50\n",
      "84/84 [==============================] - 11s 126ms/step - loss: 5.3849e-05\n",
      "Epoch 27/50\n",
      "84/84 [==============================] - 9s 108ms/step - loss: 4.3071e-05\n",
      "Epoch 28/50\n",
      "84/84 [==============================] - 9s 112ms/step - loss: 3.5176e-05\n",
      "Epoch 29/50\n",
      "84/84 [==============================] - 13s 149ms/step - loss: 2.9383e-05\n",
      "Epoch 30/50\n",
      "84/84 [==============================] - 12s 142ms/step - loss: 3.2152e-05\n",
      "Epoch 31/50\n",
      "84/84 [==============================] - 10s 118ms/step - loss: 3.9740e-05\n",
      "Epoch 32/50\n",
      "84/84 [==============================] - 10s 125ms/step - loss: 4.0713e-05\n",
      "Epoch 33/50\n",
      "84/84 [==============================] - 10s 122ms/step - loss: 3.4116e-05\n",
      "Epoch 34/50\n",
      "84/84 [==============================] - 11s 131ms/step - loss: 2.8542e-05\n",
      "Epoch 35/50\n",
      "84/84 [==============================] - 10s 117ms/step - loss: 3.0101e-05\n",
      "Epoch 36/50\n",
      "84/84 [==============================] - 10s 123ms/step - loss: 2.9787e-05\n",
      "Epoch 37/50\n",
      "84/84 [==============================] - 10s 121ms/step - loss: 3.3197e-05\n",
      "Epoch 38/50\n",
      "84/84 [==============================] - 10s 114ms/step - loss: 2.7934e-05\n",
      "Epoch 39/50\n",
      "84/84 [==============================] - 10s 124ms/step - loss: 2.9771e-05\n",
      "Epoch 40/50\n",
      "84/84 [==============================] - 10s 114ms/step - loss: 3.2366e-05\n",
      "Epoch 41/50\n",
      "84/84 [==============================] - 10s 117ms/step - loss: 2.7822e-05\n",
      "Epoch 42/50\n",
      "84/84 [==============================] - 10s 119ms/step - loss: 3.2954e-05\n",
      "Epoch 43/50\n",
      "84/84 [==============================] - 10s 115ms/step - loss: 2.8561e-05\n",
      "Epoch 44/50\n",
      "84/84 [==============================] - 10s 116ms/step - loss: 3.4231e-05\n",
      "Epoch 45/50\n",
      "84/84 [==============================] - 10s 118ms/step - loss: 3.0466e-05\n",
      "Epoch 46/50\n",
      "84/84 [==============================] - 10s 119ms/step - loss: 3.0658e-05\n",
      "Epoch 47/50\n",
      "84/84 [==============================] - 10s 119ms/step - loss: 3.3282e-05\n",
      "Epoch 48/50\n",
      "84/84 [==============================] - 11s 129ms/step - loss: 2.6146e-05\n",
      "Epoch 49/50\n",
      "84/84 [==============================] - 10s 114ms/step - loss: 3.1335e-05\n",
      "Epoch 50/50\n",
      "84/84 [==============================] - 9s 108ms/step - loss: 2.6420e-05\n"
     ]
    },
    {
     "data": {
      "text/plain": [
       "<keras.callbacks.History at 0x1fb487a9850>"
      ]
     },
     "execution_count": 39,
     "metadata": {},
     "output_type": "execute_result"
    }
   ],
   "source": [
    "model = Sequential()\n",
    "\n",
    "#Adding the first LSTM layer and some Dropout regularisation\n",
    "model.add(LSTM(50, return_sequences = True, input_shape = (x_train.shape[1], 1)))\n",
    "model.add(LSTM(50, return_sequences = False))\n",
    "\n",
    "model.add(Dense(25))\n",
    "model.add(Dense(1))\n",
    "\n",
    "model.compile(optimizer = 'adam', loss = 'mean_squared_error')\n",
    "\n",
    "# Fitting the RNN to the Training set\n",
    "model.fit(x_train, y_train, epochs = 50, batch_size = 32)"
   ]
  },
  {
   "cell_type": "code",
   "execution_count": 46,
   "metadata": {},
   "outputs": [],
   "source": [
    "# Getting the predicted stock price\n",
    "test_data = scaled_data[training_data_len - 180: , : ]\n",
    "\n",
    "#Create the x_test and y_test data sets\n",
    "x_test = []\n",
    "y_test = dataset[training_data_len : , : ]\n",
    "for i in range(180,len(test_data)):\n",
    "    x_test.append(test_data[i-180:i,0])\n",
    "\n",
    "# Convert x_test to a numpy array\n",
    "x_test = np.array(x_test)\n"
   ]
  },
  {
   "cell_type": "code",
   "execution_count": 47,
   "metadata": {},
   "outputs": [
    {
     "name": "stdout",
     "output_type": "stream",
     "text": [
      "Number of rows and columns:  (710, 180, 1)\n"
     ]
    }
   ],
   "source": [
    "#Reshape the data into the shape accepted by the LSTM\n",
    "x_test = np.reshape(x_test, (x_test.shape[0],x_test.shape[1],1))\n",
    "print('Number of rows and columns: ', x_test.shape)"
   ]
  },
  {
   "cell_type": "code",
   "execution_count": 48,
   "metadata": {},
   "outputs": [],
   "source": [
    "# Making predictions using the test dataset\n",
    "predictions = model.predict(x_test)\n",
    "predictions = scaler.inverse_transform(predictions)"
   ]
  },
  {
   "cell_type": "code",
   "execution_count": 49,
   "metadata": {},
   "outputs": [
    {
     "data": {
      "text/plain": [
       "2.396970097507898"
      ]
     },
     "execution_count": 49,
     "metadata": {},
     "output_type": "execute_result"
    }
   ],
   "source": [
    "#Get rmse\n",
    "rmse=np.sqrt(np.mean(((predictions- y_test)**2)))\n",
    "rmse"
   ]
  },
  {
   "cell_type": "code",
   "execution_count": 50,
   "metadata": {},
   "outputs": [
    {
     "data": {
      "text/plain": [
       "1.186364020877183"
      ]
     },
     "execution_count": 50,
     "metadata": {},
     "output_type": "execute_result"
    }
   ],
   "source": [
    "#Mean Absolute Percentage Error\n",
    "mape = np.mean(np.absolute((y_test- predictions)/y_test))* 100\n",
    "mape"
   ]
  },
  {
   "cell_type": "code",
   "execution_count": 51,
   "metadata": {},
   "outputs": [
    {
     "name": "stderr",
     "output_type": "stream",
     "text": [
      "<ipython-input-51-560c13bc2aae>:4: SettingWithCopyWarning: \n",
      "A value is trying to be set on a copy of a slice from a DataFrame.\n",
      "Try using .loc[row_indexer,col_indexer] = value instead\n",
      "\n",
      "See the caveats in the documentation: https://pandas.pydata.org/pandas-docs/stable/user_guide/indexing.html#returning-a-view-versus-a-copy\n",
      "  valid['Predictions'] = predictions\n"
     ]
    },
    {
     "data": {
      "image/png": "[encoded data removed]",
      "text/plain": [
       "<Figure size 1152x360 with 1 Axes>"
      ]
     },
     "metadata": {},
     "output_type": "display_data"
    }
   ],
   "source": [
    "# Visualising the results\n",
    "train = data[:training_data_len]\n",
    "valid = data[training_data_len:]\n",
    "valid['Predictions'] = predictions\n",
    "plt.figure(figsize=(16,5))\n",
    "\n",
    "plt.title('Model')\n",
    "plt.xlabel('Date', fontsize=8)\n",
    "plt.ylabel('Close Price USD ($)', fontsize=12)\n",
    "plt.plot(train['AAPL_Close'])\n",
    "plt.plot(valid[['AAPL_Close', 'Predictions']])\n",
    "plt.legend(['Train', 'Val', 'Predictions'], loc='lower right')\n",
    "plt.show()"
   ]
  },
  {
   "cell_type": "code",
   "execution_count": 52,
   "metadata": {},
   "outputs": [
    {
     "data": {
      "text/html": [
       "<div>\n",
       "<style scoped>\n",
       "    .dataframe tbody tr th:only-of-type {\n",
       "        vertical-align: middle;\n",
       "    }\n",
       "\n",
       "    .dataframe tbody tr th {\n",
       "        vertical-align: top;\n",
       "    }\n",
       "\n",
       "    .dataframe thead th {\n",
       "        text-align: right;\n",
       "    }\n",
       "</style>\n",
       "<table border=\"1\" class=\"dataframe\">\n",
       "  <thead>\n",
       "    <tr style=\"text-align: right;\">\n",
       "      <th></th>\n",
       "      <th>AAPL_Close</th>\n",
       "      <th>Predictions</th>\n",
       "    </tr>\n",
       "  </thead>\n",
       "  <tbody>\n",
       "    <tr>\n",
       "      <th>2842</th>\n",
       "      <td>114.607498</td>\n",
       "      <td>114.749672</td>\n",
       "    </tr>\n",
       "    <tr>\n",
       "      <th>2843</th>\n",
       "      <td>115.562500</td>\n",
       "      <td>114.370560</td>\n",
       "    </tr>\n",
       "    <tr>\n",
       "      <th>2844</th>\n",
       "      <td>115.707497</td>\n",
       "      <td>115.014809</td>\n",
       "    </tr>\n",
       "    <tr>\n",
       "      <th>2845</th>\n",
       "      <td>118.275002</td>\n",
       "      <td>115.425819</td>\n",
       "    </tr>\n",
       "    <tr>\n",
       "      <th>2846</th>\n",
       "      <td>124.370003</td>\n",
       "      <td>117.594849</td>\n",
       "    </tr>\n",
       "    <tr>\n",
       "      <th>...</th>\n",
       "      <td>...</td>\n",
       "      <td>...</td>\n",
       "    </tr>\n",
       "    <tr>\n",
       "      <th>3547</th>\n",
       "      <td>154.089996</td>\n",
       "      <td>154.240189</td>\n",
       "    </tr>\n",
       "    <tr>\n",
       "      <th>3548</th>\n",
       "      <td>154.089996</td>\n",
       "      <td>153.511154</td>\n",
       "    </tr>\n",
       "    <tr>\n",
       "      <th>3549</th>\n",
       "      <td>152.949997</td>\n",
       "      <td>153.303558</td>\n",
       "    </tr>\n",
       "    <tr>\n",
       "      <th>3550</th>\n",
       "      <td>151.600006</td>\n",
       "      <td>152.265137</td>\n",
       "    </tr>\n",
       "    <tr>\n",
       "      <th>3551</th>\n",
       "      <td>156.789993</td>\n",
       "      <td>150.843018</td>\n",
       "    </tr>\n",
       "  </tbody>\n",
       "</table>\n",
       "<p>710 rows × 2 columns</p>\n",
       "</div>"
      ],
      "text/plain": [
       "      AAPL_Close  Predictions\n",
       "2842  114.607498   114.749672\n",
       "2843  115.562500   114.370560\n",
       "2844  115.707497   115.014809\n",
       "2845  118.275002   115.425819\n",
       "2846  124.370003   117.594849\n",
       "...          ...          ...\n",
       "3547  154.089996   154.240189\n",
       "3548  154.089996   153.511154\n",
       "3549  152.949997   153.303558\n",
       "3550  151.600006   152.265137\n",
       "3551  156.789993   150.843018\n",
       "\n",
       "[710 rows x 2 columns]"
      ]
     },
     "execution_count": 52,
     "metadata": {},
     "output_type": "execute_result"
    }
   ],
   "source": [
    "valid"
   ]
  },
  {
   "cell_type": "markdown",
   "metadata": {},
   "source": [
    "### Predicting next day price"
   ]
  },
  {
   "cell_type": "code",
   "execution_count": 33,
   "metadata": {},
   "outputs": [
    {
     "name": "stdout",
     "output_type": "stream",
     "text": [
      "[[659.305]]\n"
     ]
    }
   ],
   "source": [
    "#Try and predict closing price \n",
    "tsla_quote = web.DataReader('TSLA', data_source='yahoo', start = '2012-01-01', end = '2022-7-14')\n",
    "new_df = tsla_quote.filter(['Close'])\n",
    "\n",
    "#Get the last 30 day closing price values and convert the dataframe to an array\n",
    "last_30_days = new_df[-30:].values\n",
    "last_30_days_scaled = scaler.transform(last_30_days)\n",
    "\n",
    "X_test = []\n",
    "X_test.append(last_30_days_scaled)\n",
    "X_test = np.array(X_test)\n",
    "X_test = np.reshape(X_test, (X_test.shape[0], X_test.shape[1], 1))\n",
    "\n",
    "pred_price = model.predict(X_test)\n",
    "\n",
    "pred_price = scaler.inverse_transform(pred_price)\n",
    "\n",
    "print(pred_price)"
   ]
  },
  {
   "cell_type": "code",
   "execution_count": 34,
   "metadata": {},
   "outputs": [
    {
     "name": "stdout",
     "output_type": "stream",
     "text": [
      "Date\n",
      "2012-01-03      5.616000\n",
      "2012-01-04      5.542000\n",
      "2012-01-05      5.424000\n",
      "2012-01-06      5.382000\n",
      "2012-01-09      5.450000\n",
      "                 ...    \n",
      "2022-07-11    703.030029\n",
      "2022-07-12    699.210022\n",
      "2022-07-13    711.119995\n",
      "2022-07-14    714.940002\n",
      "2022-07-15    720.200012\n",
      "Name: Close, Length: 2651, dtype: float64\n"
     ]
    }
   ],
   "source": [
    "#Actaul closing\n",
    "tsla_quote_actual = web.DataReader('TSLA', data_source='yahoo', start = '2012-01-01', end = '2022-7-15')\n",
    "print(tsla_quote_actual['Close'])"
   ]
  },
  {
   "cell_type": "code",
   "execution_count": null,
   "metadata": {},
   "outputs": [],
   "source": []
  }
 ],
 "metadata": {
  "kernelspec": {
   "display_name": "Python 3",
   "language": "python",
   "name": "python3"
  },
  "language_info": {
   "codemirror_mode": {
    "name": "ipython",
    "version": 3
   },
   "file_extension": ".py",
   "mimetype": "text/x-python",
   "name": "python",
   "nbconvert_exporter": "python",
   "pygments_lexer": "ipython3",
   "version": "3.8.5"
  }
 },
 "nbformat": 4,
 "nbformat_minor": 4
}
