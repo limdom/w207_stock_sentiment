{
 "cells": [
  {
   "cell_type": "code",
   "execution_count": 1,
   "metadata": {},
   "outputs": [],
   "source": [
    "import math\n",
    "import pandas_datareader as web\n",
    "import matplotlib.pyplot as plt\n",
    "import pandas as pd\n",
    "import numpy as np\n",
    "import keras\n",
    "from keras.models import Sequential\n",
    "from keras.layers import Dense\n",
    "from keras.layers import LSTM\n",
    "from keras.layers import Dropout\n",
    "from keras.layers import *\n",
    "from sklearn.preprocessing import MinMaxScaler\n",
    "from sklearn.metrics import mean_squared_error\n",
    "from sklearn.metrics import mean_absolute_error\n",
    "from sklearn.model_selection import train_test_split\n",
    "from keras.callbacks import EarlyStopping\n",
    "\n",
    "plt.style.use('fivethirtyeight')"
   ]
  },
  {
   "cell_type": "code",
   "execution_count": 2,
   "metadata": {},
   "outputs": [
    {
     "data": {
      "text/html": [
       "<div>\n",
       "<style scoped>\n",
       "    .dataframe tbody tr th:only-of-type {\n",
       "        vertical-align: middle;\n",
       "    }\n",
       "\n",
       "    .dataframe tbody tr th {\n",
       "        vertical-align: top;\n",
       "    }\n",
       "\n",
       "    .dataframe thead th {\n",
       "        text-align: right;\n",
       "    }\n",
       "</style>\n",
       "<table border=\"1\" class=\"dataframe\">\n",
       "  <thead>\n",
       "    <tr style=\"text-align: right;\">\n",
       "      <th></th>\n",
       "      <th>dt</th>\n",
       "      <th>TSLA_Open</th>\n",
       "      <th>TSLA_High</th>\n",
       "      <th>TSLA_Low</th>\n",
       "      <th>TSLA_Close</th>\n",
       "      <th>TSLA_AdjClose</th>\n",
       "      <th>TSLA_Volume</th>\n",
       "      <th>AAPL_Open</th>\n",
       "      <th>AAPL_High</th>\n",
       "      <th>AAPL_Low</th>\n",
       "      <th>...</th>\n",
       "      <th>DGS6MO</th>\n",
       "      <th>DGS10</th>\n",
       "      <th>BAMLH0A0HYM2</th>\n",
       "      <th>VXIBMCLS</th>\n",
       "      <th>USEPUINDXD</th>\n",
       "      <th>DCOILWTICO</th>\n",
       "      <th>TSLA_EPS_diluted</th>\n",
       "      <th>AAPL_EPS_diluted</th>\n",
       "      <th>TSLA_P/E</th>\n",
       "      <th>AAPL_P/E</th>\n",
       "    </tr>\n",
       "  </thead>\n",
       "  <tbody>\n",
       "    <tr>\n",
       "      <th>0</th>\n",
       "      <td>2012-11-05</td>\n",
       "      <td>5.960000</td>\n",
       "      <td>6.316000</td>\n",
       "      <td>5.866000</td>\n",
       "      <td>6.300000</td>\n",
       "      <td>6.300000</td>\n",
       "      <td>10244500.0</td>\n",
       "      <td>20.840000</td>\n",
       "      <td>20.991785</td>\n",
       "      <td>20.628571</td>\n",
       "      <td>...</td>\n",
       "      <td>0.15</td>\n",
       "      <td>1.72</td>\n",
       "      <td>5.57</td>\n",
       "      <td>19.64</td>\n",
       "      <td>225.43</td>\n",
       "      <td>85.64</td>\n",
       "      <td>-0.7440</td>\n",
       "      <td>1.5772</td>\n",
       "      <td>-8.467742</td>\n",
       "      <td>13.238198</td>\n",
       "    </tr>\n",
       "    <tr>\n",
       "      <th>1</th>\n",
       "      <td>2012-11-06</td>\n",
       "      <td>6.122000</td>\n",
       "      <td>6.240000</td>\n",
       "      <td>5.990000</td>\n",
       "      <td>6.230000</td>\n",
       "      <td>6.230000</td>\n",
       "      <td>11620000.0</td>\n",
       "      <td>21.079643</td>\n",
       "      <td>21.097857</td>\n",
       "      <td>20.717501</td>\n",
       "      <td>...</td>\n",
       "      <td>0.15</td>\n",
       "      <td>1.78</td>\n",
       "      <td>5.49</td>\n",
       "      <td>19.60</td>\n",
       "      <td>195.50</td>\n",
       "      <td>88.62</td>\n",
       "      <td>-0.7440</td>\n",
       "      <td>1.5772</td>\n",
       "      <td>-8.373656</td>\n",
       "      <td>13.198117</td>\n",
       "    </tr>\n",
       "    <tr>\n",
       "      <th>2</th>\n",
       "      <td>2012-11-07</td>\n",
       "      <td>6.200000</td>\n",
       "      <td>6.410000</td>\n",
       "      <td>6.162000</td>\n",
       "      <td>6.308000</td>\n",
       "      <td>6.308000</td>\n",
       "      <td>8572500.0</td>\n",
       "      <td>20.494286</td>\n",
       "      <td>20.519285</td>\n",
       "      <td>19.848213</td>\n",
       "      <td>...</td>\n",
       "      <td>0.14</td>\n",
       "      <td>1.68</td>\n",
       "      <td>5.63</td>\n",
       "      <td>20.49</td>\n",
       "      <td>358.00</td>\n",
       "      <td>84.50</td>\n",
       "      <td>-0.7440</td>\n",
       "      <td>1.5772</td>\n",
       "      <td>-8.478495</td>\n",
       "      <td>12.635412</td>\n",
       "    </tr>\n",
       "    <tr>\n",
       "      <th>3</th>\n",
       "      <td>2012-11-08</td>\n",
       "      <td>6.202000</td>\n",
       "      <td>6.376000</td>\n",
       "      <td>6.188000</td>\n",
       "      <td>6.262000</td>\n",
       "      <td>6.262000</td>\n",
       "      <td>6370000.0</td>\n",
       "      <td>20.022499</td>\n",
       "      <td>20.079643</td>\n",
       "      <td>19.117500</td>\n",
       "      <td>...</td>\n",
       "      <td>0.15</td>\n",
       "      <td>1.62</td>\n",
       "      <td>5.67</td>\n",
       "      <td>20.85</td>\n",
       "      <td>241.14</td>\n",
       "      <td>85.07</td>\n",
       "      <td>-0.7440</td>\n",
       "      <td>1.5772</td>\n",
       "      <td>-8.416667</td>\n",
       "      <td>12.176868</td>\n",
       "    </tr>\n",
       "    <tr>\n",
       "      <th>4</th>\n",
       "      <td>2012-11-09</td>\n",
       "      <td>6.120000</td>\n",
       "      <td>6.186000</td>\n",
       "      <td>5.970000</td>\n",
       "      <td>6.064000</td>\n",
       "      <td>6.064000</td>\n",
       "      <td>4315000.0</td>\n",
       "      <td>19.300714</td>\n",
       "      <td>19.817142</td>\n",
       "      <td>19.061428</td>\n",
       "      <td>...</td>\n",
       "      <td>0.15</td>\n",
       "      <td>1.61</td>\n",
       "      <td>5.77</td>\n",
       "      <td>20.82</td>\n",
       "      <td>278.07</td>\n",
       "      <td>86.08</td>\n",
       "      <td>-0.7440</td>\n",
       "      <td>1.5772</td>\n",
       "      <td>-8.150538</td>\n",
       "      <td>12.387685</td>\n",
       "    </tr>\n",
       "    <tr>\n",
       "      <th>...</th>\n",
       "      <td>...</td>\n",
       "      <td>...</td>\n",
       "      <td>...</td>\n",
       "      <td>...</td>\n",
       "      <td>...</td>\n",
       "      <td>...</td>\n",
       "      <td>...</td>\n",
       "      <td>...</td>\n",
       "      <td>...</td>\n",
       "      <td>...</td>\n",
       "      <td>...</td>\n",
       "      <td>...</td>\n",
       "      <td>...</td>\n",
       "      <td>...</td>\n",
       "      <td>...</td>\n",
       "      <td>...</td>\n",
       "      <td>...</td>\n",
       "      <td>...</td>\n",
       "      <td>...</td>\n",
       "      <td>...</td>\n",
       "      <td>...</td>\n",
       "    </tr>\n",
       "    <tr>\n",
       "      <th>3547</th>\n",
       "      <td>2022-07-23</td>\n",
       "      <td>828.659973</td>\n",
       "      <td>842.359985</td>\n",
       "      <td>812.140015</td>\n",
       "      <td>816.729980</td>\n",
       "      <td>816.729980</td>\n",
       "      <td>34421200.0</td>\n",
       "      <td>155.389999</td>\n",
       "      <td>156.279999</td>\n",
       "      <td>153.410004</td>\n",
       "      <td>...</td>\n",
       "      <td>2.97</td>\n",
       "      <td>2.77</td>\n",
       "      <td>4.96</td>\n",
       "      <td>25.73</td>\n",
       "      <td>96.97</td>\n",
       "      <td>97.71</td>\n",
       "      <td>8.3024</td>\n",
       "      <td>6.1521</td>\n",
       "      <td>98.372757</td>\n",
       "      <td>25.046731</td>\n",
       "    </tr>\n",
       "    <tr>\n",
       "      <th>3548</th>\n",
       "      <td>2022-07-24</td>\n",
       "      <td>828.659973</td>\n",
       "      <td>842.359985</td>\n",
       "      <td>812.140015</td>\n",
       "      <td>816.729980</td>\n",
       "      <td>816.729980</td>\n",
       "      <td>34421200.0</td>\n",
       "      <td>155.389999</td>\n",
       "      <td>156.279999</td>\n",
       "      <td>153.410004</td>\n",
       "      <td>...</td>\n",
       "      <td>2.97</td>\n",
       "      <td>2.77</td>\n",
       "      <td>4.96</td>\n",
       "      <td>25.73</td>\n",
       "      <td>212.51</td>\n",
       "      <td>97.71</td>\n",
       "      <td>8.3024</td>\n",
       "      <td>6.1521</td>\n",
       "      <td>98.372757</td>\n",
       "      <td>25.046731</td>\n",
       "    </tr>\n",
       "    <tr>\n",
       "      <th>3549</th>\n",
       "      <td>2022-07-25</td>\n",
       "      <td>816.650024</td>\n",
       "      <td>822.440002</td>\n",
       "      <td>802.200012</td>\n",
       "      <td>805.299988</td>\n",
       "      <td>805.299988</td>\n",
       "      <td>21357800.0</td>\n",
       "      <td>154.009995</td>\n",
       "      <td>155.039993</td>\n",
       "      <td>152.279999</td>\n",
       "      <td>...</td>\n",
       "      <td>3.06</td>\n",
       "      <td>2.81</td>\n",
       "      <td>4.95</td>\n",
       "      <td>25.17</td>\n",
       "      <td>110.63</td>\n",
       "      <td>99.83</td>\n",
       "      <td>8.3024</td>\n",
       "      <td>6.1521</td>\n",
       "      <td>96.996048</td>\n",
       "      <td>24.861429</td>\n",
       "    </tr>\n",
       "    <tr>\n",
       "      <th>3550</th>\n",
       "      <td>2022-07-26</td>\n",
       "      <td>799.539978</td>\n",
       "      <td>801.929993</td>\n",
       "      <td>768.789978</td>\n",
       "      <td>776.580017</td>\n",
       "      <td>776.580017</td>\n",
       "      <td>22273600.0</td>\n",
       "      <td>152.259995</td>\n",
       "      <td>153.089996</td>\n",
       "      <td>150.800003</td>\n",
       "      <td>...</td>\n",
       "      <td>3.06</td>\n",
       "      <td>2.81</td>\n",
       "      <td>5.06</td>\n",
       "      <td>25.24</td>\n",
       "      <td>30.93</td>\n",
       "      <td>99.83</td>\n",
       "      <td>8.3024</td>\n",
       "      <td>6.1521</td>\n",
       "      <td>93.536811</td>\n",
       "      <td>24.641993</td>\n",
       "    </tr>\n",
       "    <tr>\n",
       "      <th>3551</th>\n",
       "      <td>2022-07-27</td>\n",
       "      <td>791.429993</td>\n",
       "      <td>827.780029</td>\n",
       "      <td>785.369995</td>\n",
       "      <td>824.460022</td>\n",
       "      <td>824.460022</td>\n",
       "      <td>29286500.0</td>\n",
       "      <td>152.580002</td>\n",
       "      <td>157.330002</td>\n",
       "      <td>152.160004</td>\n",
       "      <td>...</td>\n",
       "      <td>3.06</td>\n",
       "      <td>2.81</td>\n",
       "      <td>5.06</td>\n",
       "      <td>25.24</td>\n",
       "      <td>30.93</td>\n",
       "      <td>99.83</td>\n",
       "      <td>8.3024</td>\n",
       "      <td>6.1521</td>\n",
       "      <td>99.303818</td>\n",
       "      <td>25.485605</td>\n",
       "    </tr>\n",
       "  </tbody>\n",
       "</table>\n",
       "<p>3552 rows × 38 columns</p>\n",
       "</div>"
      ],
      "text/plain": [
       "              dt   TSLA_Open   TSLA_High    TSLA_Low  TSLA_Close  \\\n",
       "0     2012-11-05    5.960000    6.316000    5.866000    6.300000   \n",
       "1     2012-11-06    6.122000    6.240000    5.990000    6.230000   \n",
       "2     2012-11-07    6.200000    6.410000    6.162000    6.308000   \n",
       "3     2012-11-08    6.202000    6.376000    6.188000    6.262000   \n",
       "4     2012-11-09    6.120000    6.186000    5.970000    6.064000   \n",
       "...          ...         ...         ...         ...         ...   \n",
       "3547  2022-07-23  828.659973  842.359985  812.140015  816.729980   \n",
       "3548  2022-07-24  828.659973  842.359985  812.140015  816.729980   \n",
       "3549  2022-07-25  816.650024  822.440002  802.200012  805.299988   \n",
       "3550  2022-07-26  799.539978  801.929993  768.789978  776.580017   \n",
       "3551  2022-07-27  791.429993  827.780029  785.369995  824.460022   \n",
       "\n",
       "      TSLA_AdjClose  TSLA_Volume   AAPL_Open   AAPL_High    AAPL_Low  ...  \\\n",
       "0          6.300000   10244500.0   20.840000   20.991785   20.628571  ...   \n",
       "1          6.230000   11620000.0   21.079643   21.097857   20.717501  ...   \n",
       "2          6.308000    8572500.0   20.494286   20.519285   19.848213  ...   \n",
       "3          6.262000    6370000.0   20.022499   20.079643   19.117500  ...   \n",
       "4          6.064000    4315000.0   19.300714   19.817142   19.061428  ...   \n",
       "...             ...          ...         ...         ...         ...  ...   \n",
       "3547     816.729980   34421200.0  155.389999  156.279999  153.410004  ...   \n",
       "3548     816.729980   34421200.0  155.389999  156.279999  153.410004  ...   \n",
       "3549     805.299988   21357800.0  154.009995  155.039993  152.279999  ...   \n",
       "3550     776.580017   22273600.0  152.259995  153.089996  150.800003  ...   \n",
       "3551     824.460022   29286500.0  152.580002  157.330002  152.160004  ...   \n",
       "\n",
       "      DGS6MO  DGS10  BAMLH0A0HYM2  VXIBMCLS  USEPUINDXD  DCOILWTICO  \\\n",
       "0       0.15   1.72          5.57     19.64      225.43       85.64   \n",
       "1       0.15   1.78          5.49     19.60      195.50       88.62   \n",
       "2       0.14   1.68          5.63     20.49      358.00       84.50   \n",
       "3       0.15   1.62          5.67     20.85      241.14       85.07   \n",
       "4       0.15   1.61          5.77     20.82      278.07       86.08   \n",
       "...      ...    ...           ...       ...         ...         ...   \n",
       "3547    2.97   2.77          4.96     25.73       96.97       97.71   \n",
       "3548    2.97   2.77          4.96     25.73      212.51       97.71   \n",
       "3549    3.06   2.81          4.95     25.17      110.63       99.83   \n",
       "3550    3.06   2.81          5.06     25.24       30.93       99.83   \n",
       "3551    3.06   2.81          5.06     25.24       30.93       99.83   \n",
       "\n",
       "      TSLA_EPS_diluted  AAPL_EPS_diluted   TSLA_P/E   AAPL_P/E  \n",
       "0              -0.7440            1.5772  -8.467742  13.238198  \n",
       "1              -0.7440            1.5772  -8.373656  13.198117  \n",
       "2              -0.7440            1.5772  -8.478495  12.635412  \n",
       "3              -0.7440            1.5772  -8.416667  12.176868  \n",
       "4              -0.7440            1.5772  -8.150538  12.387685  \n",
       "...                ...               ...        ...        ...  \n",
       "3547            8.3024            6.1521  98.372757  25.046731  \n",
       "3548            8.3024            6.1521  98.372757  25.046731  \n",
       "3549            8.3024            6.1521  96.996048  24.861429  \n",
       "3550            8.3024            6.1521  93.536811  24.641993  \n",
       "3551            8.3024            6.1521  99.303818  25.485605  \n",
       "\n",
       "[3552 rows x 38 columns]"
      ]
     },
     "execution_count": 2,
     "metadata": {},
     "output_type": "execute_result"
    }
   ],
   "source": [
    "import pandas as pd\n",
    "\n",
    "df = pd.read_csv ('combined_dataset_daily_TSLA_AAPL.csv')\n",
    "df"
   ]
  },
  {
   "cell_type": "code",
   "execution_count": 3,
   "metadata": {},
   "outputs": [
    {
     "data": {
      "image/png": "[encoded data removed]",
      "text/plain": [
       "<Figure size 1152x576 with 1 Axes>"
      ]
     },
     "metadata": {},
     "output_type": "display_data"
    }
   ],
   "source": [
    "plt.figure(figsize = (16,8))\n",
    "plt.plot(df[\"TSLA_AdjClose\"])\n",
    "plt.plot(df[\"TSLA_Close\"])\n",
    "plt.title('Tesla stock price history')\n",
    "plt.ylabel('Price (USD)')\n",
    "plt.xlabel('Days')\n",
    "plt.legend(['Adjusted Close','Close'], loc='upper left')\n",
    "plt.show()"
   ]
  },
  {
   "cell_type": "code",
   "execution_count": 4,
   "metadata": {},
   "outputs": [
    {
     "data": {
      "text/plain": [
       "2842"
      ]
     },
     "execution_count": 4,
     "metadata": {},
     "output_type": "execute_result"
    }
   ],
   "source": [
    "data = df.filter(['TSLA_Close'])\n",
    "dataset = data.values\n",
    "#Get number of rows to train the model on\n",
    "training_data_len = math.ceil(len(dataset)* .8)\n",
    "\n",
    "training_data_len"
   ]
  },
  {
   "cell_type": "code",
   "execution_count": 5,
   "metadata": {},
   "outputs": [
    {
     "data": {
      "text/plain": [
       "array([[1.92834764e-04],\n",
       "       [1.35637886e-04],\n",
       "       [1.99371450e-04],\n",
       "       ...,\n",
       "       [6.53052725e-01],\n",
       "       [6.29585745e-01],\n",
       "       [6.68708317e-01]])"
      ]
     },
     "execution_count": 5,
     "metadata": {},
     "output_type": "execute_result"
    }
   ],
   "source": [
    "#Scale the data\n",
    "scaler = MinMaxScaler(feature_range = (0,1))\n",
    "scaled_data = scaler.fit_transform(dataset)\n",
    "\n",
    "scaled_data"
   ]
  },
  {
   "cell_type": "markdown",
   "metadata": {},
   "source": [
    "## Trying to predict using 60 days as timestep "
   ]
  },
  {
   "cell_type": "code",
   "execution_count": 6,
   "metadata": {},
   "outputs": [
    {
     "name": "stdout",
     "output_type": "stream",
     "text": [
      "[array([1.92834764e-04, 1.35637886e-04, 1.99371450e-04, 1.61785019e-04,\n",
      "       0.00000000e+00, 0.00000000e+00, 0.00000000e+00, 1.22564515e-04,\n",
      "       2.10810747e-04, 1.73224317e-04, 8.17095467e-05, 2.48397178e-04,\n",
      "       2.48397178e-04, 2.48397178e-04, 4.24890032e-04, 4.37963404e-04,\n",
      "       3.51351245e-04, 3.51351245e-04, 2.95788832e-04, 2.95788832e-04,\n",
      "       2.95788832e-04, 3.18667427e-04, 2.99056980e-04, 4.75549834e-04,\n",
      "       5.50722695e-04, 5.71967216e-04, 5.71967216e-04, 5.71967216e-04,\n",
      "       7.02702491e-04, 5.85040978e-04, 5.53991233e-04, 5.85040978e-04,\n",
      "       6.29164094e-04, 6.29164094e-04, 6.29164094e-04, 6.94531731e-04,\n",
      "       8.10559560e-04, 8.07291022e-04, 5.37649324e-04, 5.70333142e-04,\n",
      "       5.70333142e-04, 5.70333142e-04, 6.66750524e-04, 6.97800269e-04,\n",
      "       7.01068417e-04, 6.71653136e-04, 6.01382887e-04, 6.01382887e-04,\n",
      "       6.01382887e-04, 6.47140077e-04, 6.47140077e-04, 5.34380786e-04,\n",
      "       5.50722695e-04, 4.73915760e-04, 4.73915760e-04, 4.73915760e-04,\n",
      "       5.80138366e-04, 5.80138366e-04, 8.23632932e-04, 7.27215550e-04])]\n",
      "[0.0006667505241986036]\n",
      "\n"
     ]
    }
   ],
   "source": [
    "train_data = scaled_data[0:training_data_len  , : ]\n",
    "\n",
    "x_train = []\n",
    "y_train = []\n",
    "for i in range(60, len(train_data)):\n",
    "    x_train.append(train_data[i-60:i, 0])\n",
    "    y_train.append(train_data[i, 0])\n",
    "    if i<=60:\n",
    "        print(x_train)\n",
    "        print(y_train)\n",
    "        print()\n",
    "\n"
   ]
  },
  {
   "cell_type": "code",
   "execution_count": 7,
   "metadata": {},
   "outputs": [
    {
     "name": "stdout",
     "output_type": "stream",
     "text": [
      "Number of rows and columns:  (2782, 60, 1)\n"
     ]
    }
   ],
   "source": [
    "# converting into numpy sequences to train the LSTM model\n",
    "x_train, y_train = np.array(x_train), np.array(y_train) \n",
    "x_train = np.reshape(x_train, (x_train.shape[0], x_train.shape[1], 1))\n",
    "print('Number of rows and columns: ', x_train.shape)  "
   ]
  },
  {
   "cell_type": "code",
   "execution_count": 8,
   "metadata": {},
   "outputs": [
    {
     "data": {
      "text/plain": [
       "(2782, 60, 1)"
      ]
     },
     "execution_count": 8,
     "metadata": {},
     "output_type": "execute_result"
    }
   ],
   "source": [
    "x_train.shape"
   ]
  },
  {
   "cell_type": "code",
   "execution_count": 9,
   "metadata": {},
   "outputs": [
    {
     "name": "stdout",
     "output_type": "stream",
     "text": [
      "Epoch 1/50\n",
      "87/87 [==============================] - 7s 36ms/step - loss: 1.9801e-04\n",
      "Epoch 2/50\n",
      "87/87 [==============================] - 3s 37ms/step - loss: 3.2841e-05\n",
      "Epoch 3/50\n",
      "87/87 [==============================] - 3s 38ms/step - loss: 2.7491e-05\n",
      "Epoch 4/50\n",
      "87/87 [==============================] - 3s 36ms/step - loss: 2.2287e-05\n",
      "Epoch 5/50\n",
      "87/87 [==============================] - 3s 37ms/step - loss: 1.9266e-05\n",
      "Epoch 6/50\n",
      "87/87 [==============================] - 3s 37ms/step - loss: 2.1165e-05\n",
      "Epoch 7/50\n",
      "87/87 [==============================] - 3s 38ms/step - loss: 1.9929e-05\n",
      "Epoch 8/50\n",
      "87/87 [==============================] - 3s 40ms/step - loss: 1.7998e-05\n",
      "Epoch 9/50\n",
      "87/87 [==============================] - 3s 37ms/step - loss: 1.7449e-05\n",
      "Epoch 10/50\n",
      "87/87 [==============================] - 3s 38ms/step - loss: 1.7156e-05\n",
      "Epoch 11/50\n",
      "87/87 [==============================] - 3s 36ms/step - loss: 1.3243e-05\n",
      "Epoch 12/50\n",
      "87/87 [==============================] - 3s 34ms/step - loss: 1.4992e-05\n",
      "Epoch 13/50\n",
      "87/87 [==============================] - 3s 35ms/step - loss: 1.2779e-05\n",
      "Epoch 14/50\n",
      "87/87 [==============================] - 3s 37ms/step - loss: 1.3840e-05\n",
      "Epoch 15/50\n",
      "87/87 [==============================] - 3s 37ms/step - loss: 1.5348e-05\n",
      "Epoch 16/50\n",
      "87/87 [==============================] - 3s 37ms/step - loss: 1.5644e-05\n",
      "Epoch 17/50\n",
      "87/87 [==============================] - 3s 34ms/step - loss: 1.1097e-05\n",
      "Epoch 18/50\n",
      "87/87 [==============================] - 3s 35ms/step - loss: 1.1943e-05\n",
      "Epoch 19/50\n",
      "87/87 [==============================] - 3s 35ms/step - loss: 1.6808e-05\n",
      "Epoch 20/50\n",
      "87/87 [==============================] - 3s 38ms/step - loss: 1.2181e-05\n",
      "Epoch 21/50\n",
      "87/87 [==============================] - 3s 37ms/step - loss: 9.8574e-06\n",
      "Epoch 22/50\n",
      "87/87 [==============================] - 4s 43ms/step - loss: 1.0415e-05\n",
      "Epoch 23/50\n",
      "87/87 [==============================] - 3s 36ms/step - loss: 1.2611e-05\n",
      "Epoch 24/50\n",
      "87/87 [==============================] - 4s 45ms/step - loss: 1.0605e-05\n",
      "Epoch 25/50\n",
      "87/87 [==============================] - 3s 38ms/step - loss: 1.0760e-05\n",
      "Epoch 26/50\n",
      "87/87 [==============================] - 3s 38ms/step - loss: 1.0640e-05\n",
      "Epoch 27/50\n",
      "87/87 [==============================] - 3s 39ms/step - loss: 1.1357e-05\n",
      "Epoch 28/50\n",
      "87/87 [==============================] - 3s 36ms/step - loss: 7.9913e-06\n",
      "Epoch 29/50\n",
      "87/87 [==============================] - 3s 39ms/step - loss: 9.4686e-06\n",
      "Epoch 30/50\n",
      "87/87 [==============================] - 4s 45ms/step - loss: 1.0229e-05\n",
      "Epoch 31/50\n",
      "87/87 [==============================] - 3s 39ms/step - loss: 9.5538e-06\n",
      "Epoch 32/50\n",
      "87/87 [==============================] - 3s 38ms/step - loss: 8.6856e-06\n",
      "Epoch 33/50\n",
      "87/87 [==============================] - 4s 44ms/step - loss: 8.2623e-06\n",
      "Epoch 34/50\n",
      "87/87 [==============================] - 4s 43ms/step - loss: 9.4092e-06\n",
      "Epoch 35/50\n",
      "87/87 [==============================] - 3s 40ms/step - loss: 7.2745e-06\n",
      "Epoch 36/50\n",
      "87/87 [==============================] - 3s 40ms/step - loss: 7.6830e-06\n",
      "Epoch 37/50\n",
      "87/87 [==============================] - 3s 38ms/step - loss: 8.4634e-06\n",
      "Epoch 38/50\n",
      "87/87 [==============================] - 4s 44ms/step - loss: 8.4084e-06\n",
      "Epoch 39/50\n",
      "87/87 [==============================] - 4s 45ms/step - loss: 9.6626e-06\n",
      "Epoch 40/50\n",
      "87/87 [==============================] - 4s 42ms/step - loss: 8.2018e-06\n",
      "Epoch 41/50\n",
      "87/87 [==============================] - 4s 42ms/step - loss: 8.9922e-06\n",
      "Epoch 42/50\n",
      "87/87 [==============================] - 4s 43ms/step - loss: 7.1529e-06\n",
      "Epoch 43/50\n",
      "87/87 [==============================] - 4s 43ms/step - loss: 6.2522e-06\n",
      "Epoch 44/50\n",
      "87/87 [==============================] - 3s 34ms/step - loss: 7.1604e-06\n",
      "Epoch 45/50\n",
      "87/87 [==============================] - 3s 35ms/step - loss: 7.8624e-06\n",
      "Epoch 46/50\n",
      "87/87 [==============================] - 3s 35ms/step - loss: 5.9689e-06\n",
      "Epoch 47/50\n",
      "87/87 [==============================] - 3s 35ms/step - loss: 7.5676e-06\n",
      "Epoch 48/50\n",
      "87/87 [==============================] - 3s 39ms/step - loss: 8.9248e-06\n",
      "Epoch 49/50\n",
      "87/87 [==============================] - 3s 37ms/step - loss: 6.0173e-06\n",
      "Epoch 50/50\n",
      "87/87 [==============================] - 3s 36ms/step - loss: 6.7728e-06\n"
     ]
    },
    {
     "data": {
      "text/plain": [
       "<keras.callbacks.History at 0x2292365f160>"
      ]
     },
     "execution_count": 9,
     "metadata": {},
     "output_type": "execute_result"
    }
   ],
   "source": [
    "model = Sequential()\n",
    "\n",
    "#Adding the first LSTM layer and some Dropout regularisation\n",
    "model.add(LSTM(50, return_sequences = True, input_shape = (x_train.shape[1], 1)))\n",
    "model.add(LSTM(50, return_sequences = False))\n",
    "\n",
    "model.add(Dense(25))\n",
    "model.add(Dense(1))\n",
    "\n",
    "\n",
    "\n",
    "model.compile(optimizer = 'adam', loss = 'mean_squared_error')\n",
    "\n",
    "# Fitting the RNN to the Training set\n",
    "model.fit(x_train, y_train, epochs = 50, batch_size = 32)"
   ]
  },
  {
   "cell_type": "code",
   "execution_count": 10,
   "metadata": {},
   "outputs": [],
   "source": [
    "# # We add the LSTM layer and later add a few Dropout layers to prevent overfitting.\n",
    "# # Building a LTSM model with 50 neurons and 4 hidden layers. We add the LSTM layer with the following arguments:\n",
    "# # 50 units which is the dimensionality of the output space\n",
    "# # return_sequences=True which determines whether to return the last output in the output sequence, or the full sequence input_shape as the shape of our training set.\n",
    "# # When defining the Dropout layers, we specify 0.2, meaning that 20% of the layers will be dropped.\n",
    "# # Thereafter, we add the Dense layer that specifies the output of 1 unit.\n",
    "# # After this, we compile our model using the popular adam optimizer and set the loss as the mean_squarred_error.\n",
    "\n",
    "# model = Sequential()\n",
    "\n",
    "# #Adding the first LSTM layer and some Dropout regularisation\n",
    "# model.add(LSTM(units = 50, return_sequences = True, input_shape = (x_train.shape[1], 1)))\n",
    "# model.add(Dropout(0.2))\n",
    "\n",
    "# # Adding a second LSTM layer and some Dropout regularisation\n",
    "# model.add(LSTM(units = 50, return_sequences = True))\n",
    "# model.add(Dropout(0.2))\n",
    "\n",
    "# # Adding a fourth LSTM layer and some Dropout regularisation\n",
    "# model.add(LSTM(units = 50))\n",
    "# model.add(Dropout(0.2))\n",
    "\n",
    "# # Adding the output layer\n",
    "# model.add(Dense(units = 1))\n",
    "\n",
    "# # Compiling the RNN\n",
    "# model.compile(optimizer = 'adam', loss = 'mean_squared_error')\n",
    "\n",
    "# # Fitting the RNN to the Training set\n",
    "# model.fit(x_train, y_train, epochs = 50, batch_size = 32)"
   ]
  },
  {
   "cell_type": "code",
   "execution_count": 11,
   "metadata": {},
   "outputs": [
    {
     "name": "stdout",
     "output_type": "stream",
     "text": [
      "Model: \"sequential\"\n",
      "_________________________________________________________________\n",
      " Layer (type)                Output Shape              Param #   \n",
      "=================================================================\n",
      " lstm (LSTM)                 (None, 60, 50)            10400     \n",
      "                                                                 \n",
      " lstm_1 (LSTM)               (None, 50)                20200     \n",
      "                                                                 \n",
      " dense (Dense)               (None, 25)                1275      \n",
      "                                                                 \n",
      " dense_1 (Dense)             (None, 1)                 26        \n",
      "                                                                 \n",
      "=================================================================\n",
      "Total params: 31,901\n",
      "Trainable params: 31,901\n",
      "Non-trainable params: 0\n",
      "_________________________________________________________________\n"
     ]
    }
   ],
   "source": [
    "model.summary()"
   ]
  },
  {
   "cell_type": "code",
   "execution_count": 12,
   "metadata": {},
   "outputs": [],
   "source": [
    "# Getting the predicted stock price\n",
    "test_data = scaled_data[training_data_len - 60: , : ]\n",
    "\n",
    "#Create the x_test and y_test data sets\n",
    "x_test = []\n",
    "y_test = dataset[training_data_len : , : ]\n",
    "for i in range(60,len(test_data)):\n",
    "    x_test.append(test_data[i-60:i,0])\n",
    "\n",
    "# Convert x_test to a numpy array\n",
    "x_test = np.array(x_test)\n"
   ]
  },
  {
   "cell_type": "code",
   "execution_count": 13,
   "metadata": {},
   "outputs": [
    {
     "name": "stdout",
     "output_type": "stream",
     "text": [
      "Number of rows and columns:  (710, 60, 1)\n"
     ]
    }
   ],
   "source": [
    "#Reshape the data into the shape accepted by the LSTM\n",
    "x_test = np.reshape(x_test, (x_test.shape[0],x_test.shape[1],1))\n",
    "print('Number of rows and columns: ', x_test.shape)"
   ]
  },
  {
   "cell_type": "code",
   "execution_count": 14,
   "metadata": {},
   "outputs": [],
   "source": [
    "# Making predictions using the test dataset\n",
    "predictions = model.predict(x_test)\n",
    "predictions = scaler.inverse_transform(predictions)"
   ]
  },
  {
   "cell_type": "code",
   "execution_count": 15,
   "metadata": {},
   "outputs": [
    {
     "data": {
      "text/plain": [
       "38.06332196602403"
      ]
     },
     "execution_count": 15,
     "metadata": {},
     "output_type": "execute_result"
    }
   ],
   "source": [
    "#Get rmse\n",
    "#\n",
    "rmse=np.sqrt(np.mean(((predictions- y_test)**2)))\n",
    "rmse"
   ]
  },
  {
   "cell_type": "code",
   "execution_count": 16,
   "metadata": {},
   "outputs": [
    {
     "data": {
      "text/plain": [
       "4.0180439363100025"
      ]
     },
     "execution_count": 16,
     "metadata": {},
     "output_type": "execute_result"
    }
   ],
   "source": [
    "#Mean Absolute Percentage Error - subtract from 100 and this is the accuracy? So like 97% which is pretty good\n",
    "mape = np.mean(np.absolute((y_test- predictions)/y_test))* 100\n",
    "mape"
   ]
  },
  {
   "cell_type": "code",
   "execution_count": 17,
   "metadata": {},
   "outputs": [
    {
     "name": "stderr",
     "output_type": "stream",
     "text": [
      "<ipython-input-17-62e3b38ab0a9>:4: SettingWithCopyWarning: \n",
      "A value is trying to be set on a copy of a slice from a DataFrame.\n",
      "Try using .loc[row_indexer,col_indexer] = value instead\n",
      "\n",
      "See the caveats in the documentation: https://pandas.pydata.org/pandas-docs/stable/user_guide/indexing.html#returning-a-view-versus-a-copy\n",
      "  valid['Predictions'] = predictions\n"
     ]
    },
    {
     "data": {
      "image/png": "[encoded data removed]",
      "text/plain": [
       "<Figure size 1152x360 with 1 Axes>"
      ]
     },
     "metadata": {},
     "output_type": "display_data"
    }
   ],
   "source": [
    "# Visualising the results\n",
    "train = data[:training_data_len]\n",
    "valid = data[training_data_len:]\n",
    "valid['Predictions'] = predictions\n",
    "plt.figure(figsize=(16,5))\n",
    "\n",
    "plt.title('Model')\n",
    "plt.xlabel('Date', fontsize=8)\n",
    "plt.ylabel('Close Price USD ($)', fontsize=12)\n",
    "plt.plot(train['TSLA_Close'])\n",
    "plt.plot(valid[['TSLA_Close', 'Predictions']])\n",
    "plt.legend(['Train', 'Val', 'Predictions'], loc='lower right')\n",
    "plt.show()"
   ]
  },
  {
   "cell_type": "code",
   "execution_count": 18,
   "metadata": {},
   "outputs": [
    {
     "data": {
      "text/html": [
       "<div>\n",
       "<style scoped>\n",
       "    .dataframe tbody tr th:only-of-type {\n",
       "        vertical-align: middle;\n",
       "    }\n",
       "\n",
       "    .dataframe tbody tr th {\n",
       "        vertical-align: top;\n",
       "    }\n",
       "\n",
       "    .dataframe thead th {\n",
       "        text-align: right;\n",
       "    }\n",
       "</style>\n",
       "<table border=\"1\" class=\"dataframe\">\n",
       "  <thead>\n",
       "    <tr style=\"text-align: right;\">\n",
       "      <th></th>\n",
       "      <th>TSLA_Close</th>\n",
       "      <th>Predictions</th>\n",
       "    </tr>\n",
       "  </thead>\n",
       "  <tbody>\n",
       "    <tr>\n",
       "      <th>2842</th>\n",
       "      <td>367.127991</td>\n",
       "      <td>335.576508</td>\n",
       "    </tr>\n",
       "    <tr>\n",
       "      <th>2843</th>\n",
       "      <td>377.417999</td>\n",
       "      <td>369.674652</td>\n",
       "    </tr>\n",
       "    <tr>\n",
       "      <th>2844</th>\n",
       "      <td>375.705994</td>\n",
       "      <td>385.336914</td>\n",
       "    </tr>\n",
       "    <tr>\n",
       "      <th>2845</th>\n",
       "      <td>400.365997</td>\n",
       "      <td>384.424042</td>\n",
       "    </tr>\n",
       "    <tr>\n",
       "      <th>2846</th>\n",
       "      <td>409.996002</td>\n",
       "      <td>406.019104</td>\n",
       "    </tr>\n",
       "    <tr>\n",
       "      <th>...</th>\n",
       "      <td>...</td>\n",
       "      <td>...</td>\n",
       "    </tr>\n",
       "    <tr>\n",
       "      <th>3547</th>\n",
       "      <td>816.729980</td>\n",
       "      <td>847.480713</td>\n",
       "    </tr>\n",
       "    <tr>\n",
       "      <th>3548</th>\n",
       "      <td>816.729980</td>\n",
       "      <td>843.275330</td>\n",
       "    </tr>\n",
       "    <tr>\n",
       "      <th>3549</th>\n",
       "      <td>805.299988</td>\n",
       "      <td>842.021851</td>\n",
       "    </tr>\n",
       "    <tr>\n",
       "      <th>3550</th>\n",
       "      <td>776.580017</td>\n",
       "      <td>831.660706</td>\n",
       "    </tr>\n",
       "    <tr>\n",
       "      <th>3551</th>\n",
       "      <td>824.460022</td>\n",
       "      <td>803.478699</td>\n",
       "    </tr>\n",
       "  </tbody>\n",
       "</table>\n",
       "<p>710 rows × 2 columns</p>\n",
       "</div>"
      ],
      "text/plain": [
       "      TSLA_Close  Predictions\n",
       "2842  367.127991   335.576508\n",
       "2843  377.417999   369.674652\n",
       "2844  375.705994   385.336914\n",
       "2845  400.365997   384.424042\n",
       "2846  409.996002   406.019104\n",
       "...          ...          ...\n",
       "3547  816.729980   847.480713\n",
       "3548  816.729980   843.275330\n",
       "3549  805.299988   842.021851\n",
       "3550  776.580017   831.660706\n",
       "3551  824.460022   803.478699\n",
       "\n",
       "[710 rows x 2 columns]"
      ]
     },
     "execution_count": 18,
     "metadata": {},
     "output_type": "execute_result"
    }
   ],
   "source": [
    "valid"
   ]
  },
  {
   "cell_type": "code",
   "execution_count": 19,
   "metadata": {},
   "outputs": [],
   "source": [
    "from sklearn.preprocessing import MinMaxScaler\n"
   ]
  },
  {
   "cell_type": "code",
   "execution_count": 20,
   "metadata": {},
   "outputs": [
    {
     "name": "stdout",
     "output_type": "stream",
     "text": [
      "[[720.8176]]\n"
     ]
    }
   ],
   "source": [
    "#Try and predict closing price \n",
    "tsla_quote = web.DataReader('TSLA', data_source='yahoo', start = '2012-01-01', end = '2021-3-14')\n",
    "new_df = tsla_quote.filter(['Close'])\n",
    "\n",
    "#Get the last 60 day closing price values and convert the dataframe to an array\n",
    "last_60_days = new_df[-60:].values\n",
    "last_60_days_scaled = scaler.transform(last_60_days)\n",
    "\n",
    "X_test = []\n",
    "X_test.append(last_60_days_scaled)\n",
    "X_test = np.array(X_test)\n",
    "X_test = np.reshape(X_test, (X_test.shape[0], X_test.shape[1], 1))\n",
    "\n",
    "pred_price = model.predict(X_test)\n",
    "\n",
    "pred_price = scaler.inverse_transform(pred_price)\n",
    "\n",
    "print(pred_price)"
   ]
  },
  {
   "cell_type": "code",
   "execution_count": 21,
   "metadata": {},
   "outputs": [
    {
     "name": "stdout",
     "output_type": "stream",
     "text": [
      "Date\n",
      "2012-01-03      5.616000\n",
      "2012-01-04      5.542000\n",
      "2012-01-05      5.424000\n",
      "2012-01-06      5.382000\n",
      "2012-01-09      5.450000\n",
      "                 ...    \n",
      "2021-03-09    673.580017\n",
      "2021-03-10    668.059998\n",
      "2021-03-11    699.599976\n",
      "2021-03-12    693.729980\n",
      "2021-03-15    707.940002\n",
      "Name: Close, Length: 2314, dtype: float64\n"
     ]
    }
   ],
   "source": [
    "#Actaul closing\n",
    "tsla_quote_actual = web.DataReader('TSLA', data_source='yahoo', start = '2012-01-01', end = '2021-3-15')\n",
    "print(tsla_quote_actual['Close'])"
   ]
  },
  {
   "cell_type": "code",
   "execution_count": null,
   "metadata": {},
   "outputs": [],
   "source": []
  },
  {
   "cell_type": "code",
   "execution_count": null,
   "metadata": {},
   "outputs": [],
   "source": []
  },
  {
   "cell_type": "markdown",
   "metadata": {},
   "source": [
    "## Trying to predict using 180 days as timestep "
   ]
  },
  {
   "cell_type": "code",
   "execution_count": 35,
   "metadata": {},
   "outputs": [
    {
     "name": "stdout",
     "output_type": "stream",
     "text": [
      "[array([1.92834764e-04, 1.35637886e-04, 1.99371450e-04, 1.61785019e-04,\n",
      "       0.00000000e+00, 0.00000000e+00, 0.00000000e+00, 1.22564515e-04,\n",
      "       2.10810747e-04, 1.73224317e-04, 8.17095467e-05, 2.48397178e-04,\n",
      "       2.48397178e-04, 2.48397178e-04, 4.24890032e-04, 4.37963404e-04,\n",
      "       3.51351245e-04, 3.51351245e-04, 2.95788832e-04, 2.95788832e-04,\n",
      "       2.95788832e-04, 3.18667427e-04, 2.99056980e-04, 4.75549834e-04,\n",
      "       5.50722695e-04, 5.71967216e-04, 5.71967216e-04, 5.71967216e-04,\n",
      "       7.02702491e-04, 5.85040978e-04, 5.53991233e-04, 5.85040978e-04,\n",
      "       6.29164094e-04, 6.29164094e-04, 6.29164094e-04, 6.94531731e-04,\n",
      "       8.10559560e-04, 8.07291022e-04, 5.37649324e-04, 5.70333142e-04,\n",
      "       5.70333142e-04, 5.70333142e-04, 6.66750524e-04, 6.97800269e-04,\n",
      "       7.01068417e-04, 6.71653136e-04, 6.01382887e-04, 6.01382887e-04,\n",
      "       6.01382887e-04, 6.47140077e-04, 6.47140077e-04, 5.34380786e-04,\n",
      "       5.50722695e-04, 4.73915760e-04, 4.73915760e-04, 4.73915760e-04,\n",
      "       5.80138366e-04, 5.80138366e-04, 8.23632932e-04, 7.27215550e-04,\n",
      "       6.66750524e-04, 6.66750524e-04, 6.66750524e-04, 6.56945301e-04,\n",
      "       5.49088621e-04, 5.42551935e-04, 5.24575562e-04, 4.23255569e-04,\n",
      "       4.23255569e-04, 4.23255569e-04, 4.80452446e-04, 5.85040978e-04,\n",
      "       6.17724796e-04, 6.63481986e-04, 6.86360582e-04, 6.86360582e-04,\n",
      "       6.86360582e-04, 6.86360582e-04, 7.95851725e-04, 9.28221074e-04,\n",
      "       1.09000609e-03, 1.08837202e-03, 1.08837202e-03, 1.08837202e-03,\n",
      "       1.25996226e-03, 1.24688889e-03, 1.17661864e-03, 1.17498418e-03,\n",
      "       1.30408538e-03, 1.30408538e-03, 1.30408538e-03, 1.21257061e-03,\n",
      "       1.27630417e-03, 1.44626034e-03, 1.49692014e-03, 1.45769964e-03,\n",
      "       1.45769964e-03, 1.45769964e-03, 1.32369582e-03, 1.23708367e-03,\n",
      "       1.32859844e-03, 1.29918277e-03, 1.09817724e-03, 1.09817724e-03,\n",
      "       1.09817724e-03, 1.09817724e-03, 1.46423632e-03, 1.34330627e-03,\n",
      "       7.90949113e-04, 9.46197447e-04, 9.46197447e-04, 9.46197447e-04,\n",
      "       6.63481986e-04, 6.71653136e-04, 7.81143890e-04, 7.37020773e-04,\n",
      "       7.07605103e-04, 7.07605103e-04, 7.07605103e-04, 8.59585288e-04,\n",
      "       1.03444368e-03, 1.20439985e-03, 1.29264608e-03, 1.33186658e-03,\n",
      "       1.33186658e-03, 1.33186658e-03, 1.43482104e-03, 1.43808919e-03,\n",
      "       1.41521060e-03, 1.06712750e-03, 8.12193634e-04, 8.12193634e-04,\n",
      "       8.12193634e-04, 7.89315039e-04, 7.77875352e-04, 9.20050314e-04,\n",
      "       9.29855537e-04, 1.02954107e-03, 1.02954107e-03, 1.02954107e-03,\n",
      "       1.17825271e-03, 1.23218105e-03, 1.28120678e-03, 1.23708367e-03,\n",
      "       1.23708367e-03, 1.23708367e-03, 1.23708367e-03, 2.22413608e-03,\n",
      "       2.29113779e-03, 1.76165962e-03, 1.91037127e-03, 1.80578273e-03,\n",
      "       1.80578273e-03, 1.80578273e-03, 1.88095560e-03, 1.66360816e-03,\n",
      "       1.88585782e-03, 2.16857367e-03, 2.19472041e-03, 2.19472041e-03,\n",
      "       2.19472041e-03, 2.12118162e-03, 2.49541185e-03, 2.47253326e-03,\n",
      "       2.72093044e-03, 2.86147093e-03, 2.86147093e-03, 2.86147093e-03,\n",
      "       3.24714046e-03, 3.38114389e-03, 3.28636136e-03, 3.54292890e-03,\n",
      "       3.41219363e-03, 3.41219363e-03, 3.41219363e-03, 4.02338174e-03,\n",
      "       3.86813380e-03, 3.75210597e-03, 3.88774346e-03, 3.95964818e-03])]\n",
      "[0.003959648177047138]\n",
      "\n"
     ]
    }
   ],
   "source": [
    "train_data = scaled_data[0:training_data_len  , : ]\n",
    "\n",
    "x_train = []\n",
    "y_train = []\n",
    "for i in range(180, len(train_data)):\n",
    "    x_train.append(train_data[i-180:i, 0])\n",
    "    y_train.append(train_data[i, 0])\n",
    "    if i<=180:\n",
    "        print(x_train)\n",
    "        print(y_train)\n",
    "        print()\n",
    "\n"
   ]
  },
  {
   "cell_type": "code",
   "execution_count": 36,
   "metadata": {},
   "outputs": [
    {
     "name": "stdout",
     "output_type": "stream",
     "text": [
      "Number of rows and columns:  (2662, 180, 1)\n"
     ]
    }
   ],
   "source": [
    "# converting into numpy sequences to train the LSTM model\n",
    "x_train, y_train = np.array(x_train), np.array(y_train) \n",
    "x_train = np.reshape(x_train, (x_train.shape[0], x_train.shape[1], 1))\n",
    "print('Number of rows and columns: ', x_train.shape)  "
   ]
  },
  {
   "cell_type": "code",
   "execution_count": 37,
   "metadata": {},
   "outputs": [
    {
     "data": {
      "text/plain": [
       "(2662, 180, 1)"
      ]
     },
     "execution_count": 37,
     "metadata": {},
     "output_type": "execute_result"
    }
   ],
   "source": [
    "x_train.shape"
   ]
  },
  {
   "cell_type": "code",
   "execution_count": 38,
   "metadata": {},
   "outputs": [
    {
     "name": "stdout",
     "output_type": "stream",
     "text": [
      "Epoch 1/50\n",
      "84/84 [==============================] - 13s 103ms/step - loss: 3.0030e-04\n",
      "Epoch 2/50\n",
      "84/84 [==============================] - 9s 107ms/step - loss: 2.6481e-05\n",
      "Epoch 3/50\n",
      "84/84 [==============================] - 10s 117ms/step - loss: 2.9806e-05\n",
      "Epoch 4/50\n",
      "84/84 [==============================] - 10s 122ms/step - loss: 2.4507e-05\n",
      "Epoch 5/50\n",
      "84/84 [==============================] - 12s 141ms/step - loss: 2.1433e-05\n",
      "Epoch 6/50\n",
      "84/84 [==============================] - 10s 120ms/step - loss: 2.3267e-05\n",
      "Epoch 7/50\n",
      "84/84 [==============================] - 10s 117ms/step - loss: 1.9927e-05\n",
      "Epoch 8/50\n",
      "84/84 [==============================] - 9s 108ms/step - loss: 2.0901e-05\n",
      "Epoch 9/50\n",
      "84/84 [==============================] - 9s 109ms/step - loss: 2.0366e-05\n",
      "Epoch 10/50\n",
      "84/84 [==============================] - 9s 113ms/step - loss: 2.5449e-05\n",
      "Epoch 11/50\n",
      "84/84 [==============================] - 12s 139ms/step - loss: 1.6512e-05\n",
      "Epoch 12/50\n",
      "84/84 [==============================] - 11s 126ms/step - loss: 2.3400e-05\n",
      "Epoch 13/50\n",
      "84/84 [==============================] - 9s 108ms/step - loss: 1.5277e-05\n",
      "Epoch 14/50\n",
      "84/84 [==============================] - 9s 109ms/step - loss: 1.8714e-05\n",
      "Epoch 15/50\n",
      "84/84 [==============================] - 9s 111ms/step - loss: 1.3870e-05\n",
      "Epoch 16/50\n",
      "84/84 [==============================] - 9s 105ms/step - loss: 1.4720e-05\n",
      "Epoch 17/50\n",
      "84/84 [==============================] - 9s 108ms/step - loss: 1.2261e-05\n",
      "Epoch 18/50\n",
      "84/84 [==============================] - 9s 105ms/step - loss: 1.2432e-05\n",
      "Epoch 19/50\n",
      "84/84 [==============================] - 9s 108ms/step - loss: 1.2369e-05\n",
      "Epoch 20/50\n",
      "84/84 [==============================] - 9s 106ms/step - loss: 1.4344e-05\n",
      "Epoch 21/50\n",
      "84/84 [==============================] - 9s 108ms/step - loss: 1.2230e-05\n",
      "Epoch 22/50\n",
      "84/84 [==============================] - 9s 109ms/step - loss: 1.4197e-05\n",
      "Epoch 23/50\n",
      "84/84 [==============================] - 9s 109ms/step - loss: 1.3507e-05\n",
      "Epoch 24/50\n",
      "84/84 [==============================] - 10s 121ms/step - loss: 1.1707e-05\n",
      "Epoch 25/50\n",
      "84/84 [==============================] - 9s 103ms/step - loss: 1.0021e-05\n",
      "Epoch 26/50\n",
      "84/84 [==============================] - 9s 108ms/step - loss: 1.5454e-05\n",
      "Epoch 27/50\n",
      "84/84 [==============================] - 9s 108ms/step - loss: 1.0558e-05\n",
      "Epoch 28/50\n",
      "84/84 [==============================] - 11s 127ms/step - loss: 1.1767e-05\n",
      "Epoch 29/50\n",
      "84/84 [==============================] - 10s 119ms/step - loss: 1.1055e-05\n",
      "Epoch 30/50\n",
      "84/84 [==============================] - 10s 115ms/step - loss: 9.0177e-06\n",
      "Epoch 31/50\n",
      "84/84 [==============================] - 9s 111ms/step - loss: 1.0360e-05\n",
      "Epoch 32/50\n",
      "84/84 [==============================] - 11s 129ms/step - loss: 1.1713e-05\n",
      "Epoch 33/50\n",
      "84/84 [==============================] - 14s 169ms/step - loss: 8.9286e-06\n",
      "Epoch 34/50\n",
      "84/84 [==============================] - 16s 191ms/step - loss: 1.0064e-05\n",
      "Epoch 35/50\n",
      "84/84 [==============================] - 15s 179ms/step - loss: 9.6201e-06\n",
      "Epoch 36/50\n",
      "84/84 [==============================] - 15s 177ms/step - loss: 1.0688e-05\n",
      "Epoch 37/50\n",
      "84/84 [==============================] - 16s 186ms/step - loss: 9.5923e-06\n",
      "Epoch 38/50\n",
      "84/84 [==============================] - 13s 160ms/step - loss: 8.5429e-06\n",
      "Epoch 39/50\n",
      "84/84 [==============================] - 20s 235ms/step - loss: 9.4268e-06\n",
      "Epoch 40/50\n",
      "84/84 [==============================] - 14s 166ms/step - loss: 8.3606e-06\n",
      "Epoch 41/50\n",
      "84/84 [==============================] - 14s 170ms/step - loss: 9.4456e-06\n",
      "Epoch 42/50\n",
      "84/84 [==============================] - 15s 173ms/step - loss: 1.4547e-05\n",
      "Epoch 43/50\n",
      "84/84 [==============================] - 16s 193ms/step - loss: 8.2617e-06\n",
      "Epoch 44/50\n",
      "84/84 [==============================] - 19s 223ms/step - loss: 9.9113e-06\n",
      "Epoch 45/50\n",
      "84/84 [==============================] - 14s 172ms/step - loss: 8.7595e-06\n",
      "Epoch 46/50\n",
      "84/84 [==============================] - 16s 186ms/step - loss: 9.4068e-06\n",
      "Epoch 47/50\n",
      "84/84 [==============================] - 14s 166ms/step - loss: 7.5167e-06\n",
      "Epoch 48/50\n",
      "84/84 [==============================] - 13s 158ms/step - loss: 6.7767e-06\n",
      "Epoch 49/50\n",
      "84/84 [==============================] - 13s 159ms/step - loss: 9.3452e-06\n",
      "Epoch 50/50\n",
      "84/84 [==============================] - 14s 161ms/step - loss: 7.9500e-06\n"
     ]
    },
    {
     "data": {
      "text/plain": [
       "<keras.callbacks.History at 0x22933405f70>"
      ]
     },
     "execution_count": 38,
     "metadata": {},
     "output_type": "execute_result"
    }
   ],
   "source": [
    "model = Sequential()\n",
    "\n",
    "#Adding the first LSTM layer and some Dropout regularisation\n",
    "model.add(LSTM(50, return_sequences = True, input_shape = (x_train.shape[1], 1)))\n",
    "model.add(LSTM(50, return_sequences = False))\n",
    "\n",
    "model.add(Dense(25))\n",
    "model.add(Dense(1))\n",
    "\n",
    "model.compile(optimizer = 'adam', loss = 'mean_squared_error')\n",
    "\n",
    "# Fitting the RNN to the Training set\n",
    "model.fit(x_train, y_train, epochs = 50, batch_size = 32)"
   ]
  },
  {
   "cell_type": "code",
   "execution_count": 39,
   "metadata": {},
   "outputs": [],
   "source": [
    "# Getting the predicted stock price\n",
    "test_data = scaled_data[training_data_len - 180: , : ]\n",
    "\n",
    "#Create the x_test and y_test data sets\n",
    "x_test = []\n",
    "y_test = dataset[training_data_len : , : ]\n",
    "for i in range(180,len(test_data)):\n",
    "    x_test.append(test_data[i-180:i,0])\n",
    "\n",
    "# Convert x_test to a numpy array\n",
    "x_test = np.array(x_test)\n"
   ]
  },
  {
   "cell_type": "code",
   "execution_count": 40,
   "metadata": {},
   "outputs": [
    {
     "name": "stdout",
     "output_type": "stream",
     "text": [
      "Number of rows and columns:  (710, 180, 1)\n"
     ]
    }
   ],
   "source": [
    "#Reshape the data into the shape accepted by the LSTM\n",
    "x_test = np.reshape(x_test, (x_test.shape[0],x_test.shape[1],1))\n",
    "print('Number of rows and columns: ', x_test.shape)"
   ]
  },
  {
   "cell_type": "code",
   "execution_count": 41,
   "metadata": {},
   "outputs": [],
   "source": [
    "# Making predictions using the test dataset\n",
    "predictions = model.predict(x_test)\n",
    "predictions = scaler.inverse_transform(predictions)"
   ]
  },
  {
   "cell_type": "code",
   "execution_count": 42,
   "metadata": {},
   "outputs": [
    {
     "data": {
      "text/plain": [
       "32.536100525651094"
      ]
     },
     "execution_count": 42,
     "metadata": {},
     "output_type": "execute_result"
    }
   ],
   "source": [
    "#Get rmse\n",
    "rmse=np.sqrt(np.mean(((predictions- y_test)**2)))\n",
    "rmse"
   ]
  },
  {
   "cell_type": "code",
   "execution_count": 43,
   "metadata": {},
   "outputs": [
    {
     "data": {
      "text/plain": [
       "3.339758842815947"
      ]
     },
     "execution_count": 43,
     "metadata": {},
     "output_type": "execute_result"
    }
   ],
   "source": [
    "#Mean Absolute Percentage Error\n",
    "mape = np.mean(np.absolute((y_test- predictions)/y_test))* 100\n",
    "mape"
   ]
  },
  {
   "cell_type": "code",
   "execution_count": 46,
   "metadata": {},
   "outputs": [
    {
     "name": "stderr",
     "output_type": "stream",
     "text": [
      "<ipython-input-46-6df6653f34d7>:4: SettingWithCopyWarning: \n",
      "A value is trying to be set on a copy of a slice from a DataFrame.\n",
      "Try using .loc[row_indexer,col_indexer] = value instead\n",
      "\n",
      "See the caveats in the documentation: https://pandas.pydata.org/pandas-docs/stable/user_guide/indexing.html#returning-a-view-versus-a-copy\n",
      "  valid['Predictions'] = predictions\n"
     ]
    },
    {
     "data": {
      "image/png": "[encoded data removed]",
      "text/plain": [
       "<Figure size 720x360 with 1 Axes>"
      ]
     },
     "metadata": {},
     "output_type": "display_data"
    }
   ],
   "source": [
    "# Visualising the results\n",
    "train = data[:training_data_len]\n",
    "valid = data[training_data_len:]\n",
    "valid['Predictions'] = predictions\n",
    "plt.figure(figsize=(10,5))\n",
    "\n",
    "plt.title('Model')\n",
    "plt.xlabel('Date', fontsize=8)\n",
    "plt.ylabel('Close Price USD ($)', fontsize=12)\n",
    "plt.plot(train['TSLA_Close'])\n",
    "plt.plot(valid[['TSLA_Close', 'Predictions']])\n",
    "plt.legend(['Train', 'Val', 'Predictions'], loc='lower right')\n",
    "plt.show()"
   ]
  },
  {
   "cell_type": "code",
   "execution_count": 47,
   "metadata": {},
   "outputs": [
    {
     "data": {
      "text/html": [
       "<div>\n",
       "<style scoped>\n",
       "    .dataframe tbody tr th:only-of-type {\n",
       "        vertical-align: middle;\n",
       "    }\n",
       "\n",
       "    .dataframe tbody tr th {\n",
       "        vertical-align: top;\n",
       "    }\n",
       "\n",
       "    .dataframe thead th {\n",
       "        text-align: right;\n",
       "    }\n",
       "</style>\n",
       "<table border=\"1\" class=\"dataframe\">\n",
       "  <thead>\n",
       "    <tr style=\"text-align: right;\">\n",
       "      <th></th>\n",
       "      <th>TSLA_Close</th>\n",
       "      <th>Predictions</th>\n",
       "    </tr>\n",
       "  </thead>\n",
       "  <tbody>\n",
       "    <tr>\n",
       "      <th>2842</th>\n",
       "      <td>367.127991</td>\n",
       "      <td>337.240479</td>\n",
       "    </tr>\n",
       "    <tr>\n",
       "      <th>2843</th>\n",
       "      <td>377.417999</td>\n",
       "      <td>366.249176</td>\n",
       "    </tr>\n",
       "    <tr>\n",
       "      <th>2844</th>\n",
       "      <td>375.705994</td>\n",
       "      <td>383.806915</td>\n",
       "    </tr>\n",
       "    <tr>\n",
       "      <th>2845</th>\n",
       "      <td>400.365997</td>\n",
       "      <td>385.093842</td>\n",
       "    </tr>\n",
       "    <tr>\n",
       "      <th>2846</th>\n",
       "      <td>409.996002</td>\n",
       "      <td>403.393311</td>\n",
       "    </tr>\n",
       "    <tr>\n",
       "      <th>...</th>\n",
       "      <td>...</td>\n",
       "      <td>...</td>\n",
       "    </tr>\n",
       "    <tr>\n",
       "      <th>3547</th>\n",
       "      <td>816.729980</td>\n",
       "      <td>843.643127</td>\n",
       "    </tr>\n",
       "    <tr>\n",
       "      <th>3548</th>\n",
       "      <td>816.729980</td>\n",
       "      <td>841.070618</td>\n",
       "    </tr>\n",
       "    <tr>\n",
       "      <th>3549</th>\n",
       "      <td>805.299988</td>\n",
       "      <td>837.044556</td>\n",
       "    </tr>\n",
       "    <tr>\n",
       "      <th>3550</th>\n",
       "      <td>776.580017</td>\n",
       "      <td>825.043945</td>\n",
       "    </tr>\n",
       "    <tr>\n",
       "      <th>3551</th>\n",
       "      <td>824.460022</td>\n",
       "      <td>796.708923</td>\n",
       "    </tr>\n",
       "  </tbody>\n",
       "</table>\n",
       "<p>710 rows × 2 columns</p>\n",
       "</div>"
      ],
      "text/plain": [
       "      TSLA_Close  Predictions\n",
       "2842  367.127991   337.240479\n",
       "2843  377.417999   366.249176\n",
       "2844  375.705994   383.806915\n",
       "2845  400.365997   385.093842\n",
       "2846  409.996002   403.393311\n",
       "...          ...          ...\n",
       "3547  816.729980   843.643127\n",
       "3548  816.729980   841.070618\n",
       "3549  805.299988   837.044556\n",
       "3550  776.580017   825.043945\n",
       "3551  824.460022   796.708923\n",
       "\n",
       "[710 rows x 2 columns]"
      ]
     },
     "execution_count": 47,
     "metadata": {},
     "output_type": "execute_result"
    }
   ],
   "source": [
    "valid"
   ]
  },
  {
   "cell_type": "code",
   "execution_count": 33,
   "metadata": {},
   "outputs": [
    {
     "name": "stdout",
     "output_type": "stream",
     "text": [
      "[[950.92267]]\n"
     ]
    }
   ],
   "source": [
    "#Try and predict closing price \n",
    "tsla_quote = web.DataReader('TSLA', data_source='yahoo', start = '2012-01-01', end = '2021-12-16')\n",
    "new_df = tsla_quote.filter(['Close'])\n",
    "\n",
    "#Get the last 30 day closing price values and convert the dataframe to an array\n",
    "last_30_days = new_df[-30:].values\n",
    "last_30_days_scaled = scaler.transform(last_30_days)\n",
    "\n",
    "X_test = []\n",
    "X_test.append(last_30_days_scaled)\n",
    "X_test = np.array(X_test)\n",
    "X_test = np.reshape(X_test, (X_test.shape[0], X_test.shape[1], 1))\n",
    "\n",
    "pred_price = model.predict(X_test)\n",
    "\n",
    "pred_price = scaler.inverse_transform(pred_price)\n",
    "\n",
    "print(pred_price)"
   ]
  },
  {
   "cell_type": "code",
   "execution_count": 34,
   "metadata": {},
   "outputs": [
    {
     "name": "stdout",
     "output_type": "stream",
     "text": [
      "Date\n",
      "2012-01-03      5.616000\n",
      "2012-01-04      5.542000\n",
      "2012-01-05      5.424000\n",
      "2012-01-06      5.382000\n",
      "2012-01-09      5.450000\n",
      "                 ...    \n",
      "2021-12-13    966.409973\n",
      "2021-12-14    958.510010\n",
      "2021-12-15    975.989990\n",
      "2021-12-16    926.919983\n",
      "2021-12-17    932.570007\n",
      "Name: Close, Length: 2508, dtype: float64\n"
     ]
    }
   ],
   "source": [
    "#Actaul closing\n",
    "tsla_quote_actual = web.DataReader('TSLA', data_source='yahoo', start = '2012-01-01', end = '2021-12-17')\n",
    "print(tsla_quote_actual['Close'])"
   ]
  }
 ],
 "metadata": {
  "kernelspec": {
   "display_name": "Python 3",
   "language": "python",
   "name": "python3"
  },
  "language_info": {
   "codemirror_mode": {
    "name": "ipython",
    "version": 3
   },
   "file_extension": ".py",
   "mimetype": "text/x-python",
   "name": "python",
   "nbconvert_exporter": "python",
   "pygments_lexer": "ipython3",
   "version": "3.8.5"
  }
 },
 "nbformat": 4,
 "nbformat_minor": 4
}
